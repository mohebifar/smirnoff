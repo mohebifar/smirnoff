{
 "cells": [
  {
   "cell_type": "markdown",
   "metadata": {},
   "source": [
    "# Test creation of molecules in OpenEye\n",
    "\n",
    "This is to help with https://github.com/pandegroup/openmm/issues/1443 -- we need to determine whether valid OpenEye molecules can be created in general (irrespective of charge) from elements, connectivity, and bond order. The intention is to update OpenMM's Topology to include bond order, and we need to make sure we have the necessary info in general.\n",
    "\n",
    "John Chodera currently has a hacked tool for doing something like this at https://github.com/choderalab/openmoltools/blob/master/openmoltools/forcefield_generators.py#L80-L179 which uses antechamber to infer bond orders with the assumption that the molecule is neutral.\n",
    "\n",
    "Here we will attempt a more general solution.\n",
    "\n",
    "## Initial steps for testing:\n",
    "1. Create a molecule from SMILES\n",
    "2. Define utility functions to:\n",
    "   1. Obtain elements, names, connectivity and integer bond orders; store\n",
    "   2. Create a new molecule from elements, names, connectivity and integer bond orders\n",
    "4. Convert back to SMILES and compare to original SMILES\n",
    "\n",
    "We need to ensure that this works for various bond orders including aromatics, and that it works for molecules of various charges including unusual protonation states.\n",
    "\n",
    "## 1. Create a reference molecule"
   ]
  },
  {
   "cell_type": "code",
   "execution_count": 33,
   "metadata": {
    "collapsed": false
   },
   "outputs": [],
   "source": [
    "from openeye.oechem import *\n",
    "mol = OEMol()\n",
    "#smiles = 'CC(c1ccccc1)C(=O)[O-]'\n",
    "smiles = 'C[NH2+]CC(c1ccccc1)C(=O)[O-]'\n",
    "OEParseSmiles(mol, smiles)\n",
    "OEAddExplicitHydrogens(mol)\n",
    "OEAssignAromaticFlags(mol)\n",
    "OETriposAtomNames(mol)"
   ]
  },
  {
   "cell_type": "markdown",
   "metadata": {},
   "source": [
    "## 2. Make utility functions"
   ]
  },
  {
   "cell_type": "code",
   "execution_count": 34,
   "metadata": {
    "collapsed": false
   },
   "outputs": [],
   "source": [
    "def get_atom_properties(mol):\n",
    "    \"\"\"Return atomic numbers, names, connectivity, and bond orders involved in an OE molecule.\n",
    "    \n",
    "    Arguments:\n",
    "    ----------\n",
    "        mol : OEMol\n",
    "            OpenEye molecule to process\n",
    "        \n",
    "    Returns\n",
    "    -------\n",
    "        atomic_numbers : list of ints\n",
    "            List of integer atomic numbers\n",
    "        names : list of strings\n",
    "            List of strings of atom names\n",
    "        bonds : list of tuples\n",
    "            List of tuples of atom names involved in bonds in the format [ (bond1_name1, bond1_name2), (bond2_name1, bond2_name2), ...]\n",
    "        bond_orders : list of ints\n",
    "            List of integer bond orders corresponding to the bonds in the prior list\n",
    "    \"\"\"\n",
    "    \n",
    "    atomic_numbers = []\n",
    "    names = []\n",
    "    bonds = []\n",
    "    bond_orders = []\n",
    "    \n",
    "    for atom in mol.GetAtoms():\n",
    "        atomic_numbers.append( atom.GetAtomicNum())\n",
    "        names.append( atom.GetName())\n",
    "        \n",
    "    for bond in mol.GetBonds():\n",
    "        bgn = bond.GetBgn().GetName()\n",
    "        end = bond.GetEnd().GetName()\n",
    "        bonds.append( (bgn, end) )\n",
    "        bond_orders.append( bond.GetOrder() )\n",
    "        \n",
    "    return atomic_numbers, names, bonds, bond_orders\n",
    "\n",
    "\n",
    "def make_mol_from_properties( atomic_numbers, names, bonds, bond_orders):\n",
    "    \"\"\"Use atomic numbers, names, connectivity, and bond orders (i.e. as output by get_atom_properties) to construct and return an OEMol.\n",
    "\n",
    "    \n",
    "    Arguments:\n",
    "    ----------\n",
    "        atomic_numbers : list of ints\n",
    "            List of integer atomic numbers\n",
    "        names : list of strings\n",
    "            List of strings of atom names\n",
    "        bonds : list of tuples\n",
    "            List of tuples of atom names involved in bonds in the format [ (bond1_name1, bond1_name2), (bond2_name1, bond2_name2), ...]\n",
    "        bond_orders : list of ints\n",
    "            List of integer bond orders corresponding to the bonds in the prior list\n",
    "        \n",
    "    Returns\n",
    "    -------\n",
    "        mol : OEMol\n",
    "            OpenEye molecule created\n",
    "            \n",
    "    Notes: Draws loosely on John Chodera's code from https://github.com/choderalab/openmoltools/blob/master/openmoltools/forcefield_generators.py#L80-L179\n",
    "       \n",
    "    \"\"\"\n",
    "    \n",
    "    mol = OEMol()\n",
    "    for atnr, name in zip(atomic_numbers, names):\n",
    "        oeatom = mol.NewAtom( atnr )\n",
    "        oeatom.SetName(name)\n",
    "    oeatoms = { oeatom.GetName() : oeatom for oeatom in mol.GetAtoms() }\n",
    "    \n",
    "    for bond, bond_order in zip(bonds, bond_orders):\n",
    "        mol.NewBond(oeatoms[bond[0]], oeatoms[bond[1]], bond_order)\n",
    "    \n",
    "    # Perceive aromaticity\n",
    "    OEAssignAromaticFlags(mol)\n",
    "    # Assign formal charges\n",
    "    OEAssignFormalCharges(mol)\n",
    "    \n",
    "    return mol\n",
    "        "
   ]
  },
  {
   "cell_type": "markdown",
   "metadata": {},
   "source": [
    "## Check and see whether the output is consistent with the input"
   ]
  },
  {
   "cell_type": "code",
   "execution_count": 36,
   "metadata": {
    "collapsed": false
   },
   "outputs": [
    {
     "name": "stdout",
     "output_type": "stream",
     "text": [
      "C[NH2+]CC(c1ccccc1)C(=O)[O-]\n"
     ]
    }
   ],
   "source": [
    "atomic_numbers, names, bonds, bond_orders = get_atom_properties(mol)\n",
    "mol = make_mol_from_properties( atomic_numbers, names, bonds, bond_orders)\n",
    "smiles = OECreateIsoSmiString(mol)\n",
    "print(smiles)"
   ]
  },
  {
   "cell_type": "code",
   "execution_count": null,
   "metadata": {
    "collapsed": true
   },
   "outputs": [],
   "source": []
  }
 ],
 "metadata": {
  "kernelspec": {
   "display_name": "Python 2",
   "language": "python",
   "name": "python2"
  },
  "language_info": {
   "codemirror_mode": {
    "name": "ipython",
    "version": 2
   },
   "file_extension": ".py",
   "mimetype": "text/x-python",
   "name": "python",
   "nbconvert_exporter": "python",
   "pygments_lexer": "ipython2",
   "version": "2.7.11"
  }
 },
 "nbformat": 4,
 "nbformat_minor": 0
}
