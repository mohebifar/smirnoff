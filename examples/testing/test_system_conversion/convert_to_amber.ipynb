{
 "cells": [
  {
   "cell_type": "code",
   "execution_count": 1,
   "metadata": {
    "collapsed": false
   },
   "outputs": [],
   "source": [
    "from smarty.forcefield import *\n",
    "import parmed\n",
    "import openeye.oechem as oechem\n",
    "from simtk.openmm.app import PDBFile"
   ]
  },
  {
   "cell_type": "code",
   "execution_count": 2,
   "metadata": {
    "collapsed": false
   },
   "outputs": [],
   "source": [
    "pdbfile = PDBFile('cyclohexane_ethanol_0.4_0.6.pdb')\n",
    "ff = ForceField('../../smarty/data/forcefield/Frosst_AlkEtOH.ffxml')\n",
    "\n",
    "mols = []\n",
    "flavor = oechem.OEIFlavor_Generic_Default | oechem.OEIFlavor_MOL2_Default | oechem.OEIFlavor_MOL2_Forcefield\n",
    "for molname in ['cyclohexane', 'ethanol']:\n",
    "    ifs = oechem.oemolistream(molname+'.mol2')\n",
    "    ifs.SetFlavor( oechem.OEFormat_MOL2, flavor)\n",
    "    mol = oechem.OEGraphMol()\n",
    "    while oechem.OEReadMolecule(ifs, mol):\n",
    "        oechem.OETriposAtomNames(mol)\n",
    "        mols.append(oechem.OEGraphMol(mol))\n",
    "\n",
    "system = ff.createSystem( pdbfile.topology, mols)\n",
    "#Swap in positions\n",
    "integrator = openmm.VerletIntegrator(1.0 * unit.femtoseconds)\n",
    "context = openmm.Context(system, integrator)\n",
    "context.setPositions(pdbfile.positions)\n",
    "\n",
    "# Create parmed Structure\n",
    "structure = parmed.openmm.topsystem.load_topology( pdbfile.topology, system, pdbfile.positions)\n",
    "# Write AMBER parameter/crd\n",
    "#parmed.amber.AmberParm( system, structure)\n",
    "#help(structure.save)\n",
    "#Save prmtop\n",
    "structure.save('system.prmtop', overwrite=True)\n",
    "# Save crd\n",
    "structure.save('system.crd', format='rst7', overwrite=True)"
   ]
  },
  {
   "cell_type": "code",
   "execution_count": 1,
   "metadata": {
    "collapsed": false
   },
   "outputs": [],
   "source": [
    "# Evaluate energy of OpenMM system and AMBER system to check that they are still the same\n",
    "from smarty.forcefield_utils import *\n",
    "#ambertop, ambersys, amberpos = create_system_from_amber( 'system.prmtop', 'system.crd')\n",
    "#groups0, groups1, energy0, energy1 = compare_system_energies( ambertop, pdbfile.topology, ambersys, system)\n",
    "#print(energy0, energy1)\n",
    "\n",
    "# Well, that's not good -- it fails on creating the AMBER system. Is it an issue with the AMBER files? \n",
    "# Let's cross compare with those in the distribution\n",
    "# This runs properly, while the above does not. So it's some issue with the AMBER files.\n",
    "ambertop, ambersys, amberpos = create_system_from_amber( '../../../smarty/data/systems/amber/cyclohexane_ethanol_0.4_0.6.prmtop', '../../../smarty/data/systems/amber/cyclohexane_ethanol_0.4_0.6.inpcrd')"
   ]
  },
  {
   "cell_type": "code",
   "execution_count": 47,
   "metadata": {
    "collapsed": false
   },
   "outputs": [
    {
     "data": {
      "text/plain": [
       "['__class__',\n",
       " '__copy__',\n",
       " '__deepcopy__',\n",
       " '__del__',\n",
       " '__delattr__',\n",
       " '__dict__',\n",
       " '__doc__',\n",
       " '__format__',\n",
       " '__getattr__',\n",
       " '__getattribute__',\n",
       " '__getstate__',\n",
       " '__hash__',\n",
       " '__init__',\n",
       " '__module__',\n",
       " '__new__',\n",
       " '__reduce__',\n",
       " '__reduce_ex__',\n",
       " '__repr__',\n",
       " '__setattr__',\n",
       " '__setstate__',\n",
       " '__sizeof__',\n",
       " '__str__',\n",
       " '__subclasshook__',\n",
       " '__swig_destroy__',\n",
       " '__swig_getmethods__',\n",
       " '__swig_setmethods__',\n",
       " '__weakref__',\n",
       " 'addConstraint',\n",
       " 'addForce',\n",
       " 'addParticle',\n",
       " 'getConstraintParameters',\n",
       " 'getDefaultPeriodicBoxVectors',\n",
       " 'getForce',\n",
       " 'getForces',\n",
       " 'getNumConstraints',\n",
       " 'getNumForces',\n",
       " 'getNumParticles',\n",
       " 'getParticleMass',\n",
       " 'getVirtualSite',\n",
       " 'isVirtualSite',\n",
       " 'removeConstraint',\n",
       " 'removeForce',\n",
       " 'setConstraintParameters',\n",
       " 'setDefaultPeriodicBoxVectors',\n",
       " 'setParticleMass',\n",
       " 'setVirtualSite',\n",
       " 'this',\n",
       " 'usesPeriodicBoundaryConditions']"
      ]
     },
     "execution_count": 47,
     "metadata": {},
     "output_type": "execute_result"
    }
   ],
   "source": [
    "dir(system)"
   ]
  },
  {
   "cell_type": "code",
   "execution_count": 44,
   "metadata": {
    "collapsed": false
   },
   "outputs": [
    {
     "name": "stdout",
     "output_type": "stream",
     "text": [
      "-0.0966999977827\n",
      "0.129700005054\n",
      "-0.599500000477\n",
      "0.0447999984026\n",
      "0.0447999984026\n",
      "0.0447999984026\n",
      "0.017100000754\n",
      "0.017100000754\n",
      "0.397899985313\n",
      "0.0377999991179\n",
      "0.0377999991179\n",
      "0.0377999991179\n",
      "0.0377999991179\n",
      "0.0377999991179\n",
      "0.0377999991179\n",
      "0.0377999991179\n",
      "0.0377999991179\n",
      "0.0377999991179\n",
      "0.0\n",
      "0.0\n",
      "0.0\n",
      "0.0\n",
      "0.0\n",
      "0.0\n",
      "0.0\n",
      "0.0\n",
      "0.0\n",
      "0.0\n",
      "0.0\n",
      "0.0\n",
      "0.0\n",
      "0.0\n",
      "0.0\n",
      "0.0\n",
      "0.0\n",
      "0.0\n",
      "Charges in oemols:\n",
      "-0.076099999249\n",
      "-0.0754999965429\n",
      "-0.0754999965429\n",
      "-0.0754999965429\n",
      "-0.0754999965429\n",
      "-0.0754999965429\n",
      "0.0377999991179\n",
      "0.0377999991179\n",
      "0.0377999991179\n",
      "0.0377999991179\n",
      "0.0377999991179\n",
      "0.0377999991179\n",
      "0.0377999991179\n",
      "0.0377999991179\n",
      "0.0377999991179\n",
      "0.0377999991179\n",
      "0.0377999991179\n",
      "0.0377999991179\n",
      "-0.0966999977827\n",
      "0.129700005054\n",
      "-0.599500000477\n",
      "0.0447999984026\n",
      "0.0447999984026\n",
      "0.0447999984026\n",
      "0.017100000754\n",
      "0.017100000754\n",
      "0.397899985313\n"
     ]
    }
   ],
   "source": [
    "# Seems to have zero charges for subsequent instances of molecule in topology; is this correct?\n",
    "\n",
    "# Troubleshoot charge issue - print charges as seen in parmed\n",
    "dir(structure.residues[2].atoms[0])\n",
    "structure.residues[1].atoms[0].charge\n",
    "for atom in structure.residues[0]: print atom.charge\n",
    "for atom in structure.residues[1]: print atom.charge\n",
    "    \n",
    "# Compare with charges in oemols - these are correct\n",
    "print(\"Charges in oemols:\")\n",
    "for mol in mols:\n",
    "    for atom in mol.GetAtoms():\n",
    "        print atom.GetPartialCharge()\n",
    "        \n",
    "# Can I access charges in OpenMM system?"
   ]
  },
  {
   "cell_type": "code",
   "execution_count": null,
   "metadata": {
    "collapsed": true
   },
   "outputs": [],
   "source": []
  }
 ],
 "metadata": {
  "kernelspec": {
   "display_name": "Python 2",
   "language": "python",
   "name": "python2"
  },
  "language_info": {
   "codemirror_mode": {
    "name": "ipython",
    "version": 2
   },
   "file_extension": ".py",
   "mimetype": "text/x-python",
   "name": "python",
   "nbconvert_exporter": "python",
   "pygments_lexer": "ipython2",
   "version": "2.7.11"
  }
 },
 "nbformat": 4,
 "nbformat_minor": 0
}
