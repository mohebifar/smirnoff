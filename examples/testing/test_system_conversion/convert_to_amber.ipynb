{
 "cells": [
  {
   "cell_type": "code",
   "execution_count": null,
   "metadata": {
    "collapsed": false
   },
   "outputs": [],
   "source": [
    "from smarty.forcefield import *\n",
    "import parmed\n",
    "import openeye.oechem as oechem\n",
    "from simtk.openmm.app import PDBFile"
   ]
  },
  {
   "cell_type": "code",
   "execution_count": null,
   "metadata": {
    "collapsed": false
   },
   "outputs": [],
   "source": [
    "pdbfile = PDBFile('cyclohexane_ethanol_0.4_0.6.pdb')\n",
    "ff = ForceField('../../smarty/data/forcefield/Frosst_AlkEtOH.ffxml')\n",
    "\n",
    "mols = []\n",
    "flavor = oechem.OEIFlavor_Generic_Default | oechem.OEIFlavor_MOL2_Default | oechem.OEIFlavor_MOL2_Forcefield\n",
    "for molname in ['cyclohexane', 'ethanol']:\n",
    "    ifs = oechem.oemolistream(molname+'.mol2')\n",
    "    ifs.SetFlavor( oechem.OEFormat_MOL2, flavor)\n",
    "    mol = oechem.OEGraphMol()\n",
    "    while oechem.OEReadMolecule(ifs, mol):\n",
    "        oechem.OETriposAtomNames(mol)\n",
    "        mols.append(oechem.OEGraphMol(mol))\n",
    "\n",
    "system = ff.createSystem( pdbfile.topology, mols)\n",
    "#Swap in positions\n",
    "integrator = openmm.VerletIntegrator(1.0 * unit.femtoseconds)\n",
    "context = openmm.Context(system, integrator)\n",
    "context.setPositions(pdbfile.positions)\n",
    "\n",
    "# Create parmed Structure\n",
    "structure = parmed.openmm.topsystem.load_topology( pdbfile.topology, system, pdbfile.positions)\n",
    "# Write AMBER parameter/crd\n",
    "#parmed.amber.AmberParm( system, structure)\n",
    "#help(structure.save)\n",
    "#Save prmtop\n",
    "structure.save('system.prmtop', overwrite=True)\n",
    "# Save crd\n",
    "structure.save('system.crd', format='rst7', overwrite=True)\n",
    "\n"
   ]
  },
  {
   "cell_type": "code",
   "execution_count": null,
   "metadata": {
    "collapsed": false
   },
   "outputs": [],
   "source": [
    "# Evaluate energy of OpenMM system and AMBER system to check that they are still the same\n",
    "from smarty.forcefield_utils import *\n",
    "parm = parmed.load_file('system.prmtop', 'system.crd')\n",
    "ambersys = parm.createSystem(nonbondedMethod= app.NoCutoff, constraints = None, implicitSolvent = None)\n",
    "groups0, groups1, energy0, energy1 = compare_system_energies( pdbfile.topology, pdbfile.topology, ambersys, system, pdbfile.positions)\n",
    "\n",
    "# Load as in create_system_from_amber; this fails. Apparently some sort of OpenMM issue.\n",
    "#prmtop = app.AmberPrmtopFile('system.prmtop')\n",
    "#system =prmtop.createSystem(nonbondedMethod = app.NoCutoff, constraints = None, implicitSolvent = None)\n"
   ]
  },
  {
   "cell_type": "code",
   "execution_count": null,
   "metadata": {
    "collapsed": false
   },
   "outputs": [],
   "source": [
    "# Dump OpenMM systems out\n",
    "\n",
    "# Do smarty system\n",
    "from simtk.openmm import XmlSerializer\n",
    "serialized_system_smirff = XmlSerializer.serialize(system)\n",
    "outfile = open('smarty_system.xml','w')\n",
    "outfile.write(serialized_system_smirff)\n",
    "outfile.close()\n",
    "# Do amber system\n",
    "serialized_system_amber = XmlSerializer.serialize(ambersys)\n",
    "outfile = open('amber_system.xml','w')\n",
    "outfile.write(serialized_system_amber)\n",
    "outfile.close()"
   ]
  },
  {
   "cell_type": "code",
   "execution_count": 14,
   "metadata": {
    "collapsed": false
   },
   "outputs": [],
   "source": [
    "# deserialize systems and confirm energies still different without using external tools\n",
    "smirff_system = XmlSerializer.deserialize(serialized_system_smirff)\n",
    "amber_system = XmlSerializer.deserialize(serialized_system_amber)\n",
    "pdbfile = PDBFile('cyclohexane_ethanol_0.4_0.6.pdb')\n",
    "\n",
    "# Do an energy comparison\n",
    "timestep = 1.0 * unit.femtoseconds\n",
    "integrator0 = simtk.openmm.VerletIntegrator( timestep )\n",
    "integrator1 = simtk.openmm.VerletIntegrator( timestep )\n",
    "platform = simtk.openmm.Platform.getPlatformByName(\"Reference\")\n",
    "positions = pdbfile.positions\n",
    "simulation0 = app.Simulation( pdbfile.topology, smirff_system, integrator0, platform = platform )\n",
    "simulation0.context.setPositions(positions)\n",
    "simulation1 = app.Simulation( parm.topology, amber_system, integrator1, platform = platform )\n",
    "simulation1.context.setPositions(positions)\n",
    "syscheck = system_checker.SystemChecker( simulation0, simulation1 )\n",
    "groups0, groups1 = syscheck.check_energy_groups(skip_assert = False)\n",
    "energy0, energy1 = syscheck.check_energies(skip_assert = False)"
   ]
  },
  {
   "cell_type": "code",
   "execution_count": 15,
   "metadata": {
    "collapsed": false
   },
   "outputs": [
    {
     "ename": "IOError",
     "evalue": "swails.mol2 exists; not overwriting",
     "output_type": "error",
     "traceback": [
      "\u001b[0;31m---------------------------------------------------------------------------\u001b[0m",
      "\u001b[0;31mIOError\u001b[0m                                   Traceback (most recent call last)",
      "\u001b[0;32m<ipython-input-15-a14428f07e8a>\u001b[0m in \u001b[0;36m<module>\u001b[0;34m()\u001b[0m\n\u001b[1;32m      1\u001b[0m \u001b[0;31m# Save mol2 file for swails\u001b[0m\u001b[0;34m\u001b[0m\u001b[0;34m\u001b[0m\u001b[0m\n\u001b[0;32m----> 2\u001b[0;31m \u001b[0mstructure\u001b[0m\u001b[0;34m.\u001b[0m\u001b[0msave\u001b[0m\u001b[0;34m(\u001b[0m\u001b[0;34m'swails.mol2'\u001b[0m\u001b[0;34m)\u001b[0m\u001b[0;34m\u001b[0m\u001b[0m\n\u001b[0m",
      "\u001b[0;32m/Users/dmobley/anaconda/lib/python2.7/site-packages/ParmEd-0+unknown-py2.7-macosx-10.5-x86_64.egg/parmed/structure.pyc\u001b[0m in \u001b[0;36msave\u001b[0;34m(self, fname, format, overwrite, **kwargs)\u001b[0m\n\u001b[1;32m   1461\u001b[0m         \u001b[0;31m# convert to atom type names and switch back if need be\u001b[0m\u001b[0;34m\u001b[0m\u001b[0;34m\u001b[0m\u001b[0m\n\u001b[1;32m   1462\u001b[0m         \u001b[0;32mif\u001b[0m \u001b[0mos\u001b[0m\u001b[0;34m.\u001b[0m\u001b[0mpath\u001b[0m\u001b[0;34m.\u001b[0m\u001b[0mexists\u001b[0m\u001b[0;34m(\u001b[0m\u001b[0mfname\u001b[0m\u001b[0;34m)\u001b[0m \u001b[0;32mand\u001b[0m \u001b[0;32mnot\u001b[0m \u001b[0moverwrite\u001b[0m\u001b[0;34m:\u001b[0m\u001b[0;34m\u001b[0m\u001b[0m\n\u001b[0;32m-> 1463\u001b[0;31m             \u001b[0;32mraise\u001b[0m \u001b[0mIOError\u001b[0m\u001b[0;34m(\u001b[0m\u001b[0;34m'%s exists; not overwriting'\u001b[0m \u001b[0;34m%\u001b[0m \u001b[0mfname\u001b[0m\u001b[0;34m)\u001b[0m\u001b[0;34m\u001b[0m\u001b[0m\n\u001b[0m\u001b[1;32m   1464\u001b[0m         \u001b[0mall_ints\u001b[0m \u001b[0;34m=\u001b[0m \u001b[0mTrue\u001b[0m\u001b[0;34m\u001b[0m\u001b[0m\n\u001b[1;32m   1465\u001b[0m         \u001b[0;32mfor\u001b[0m \u001b[0matom\u001b[0m \u001b[0;32min\u001b[0m \u001b[0mself\u001b[0m\u001b[0;34m.\u001b[0m\u001b[0matoms\u001b[0m\u001b[0;34m:\u001b[0m\u001b[0;34m\u001b[0m\u001b[0m\n",
      "\u001b[0;31mIOError\u001b[0m: swails.mol2 exists; not overwriting"
     ]
    }
   ],
   "source": [
    "# Save mol2 file for swails\n",
    "structure.save('swails.mol2')"
   ]
  },
  {
   "cell_type": "code",
   "execution_count": 16,
   "metadata": {
    "collapsed": false
   },
   "outputs": [
    {
     "data": {
      "text/plain": [
       "[('HarmonicBondForce', 42.56436386960996),\n",
       " ('HarmonicAngleForce', 109.54924584764584),\n",
       " ('PeriodicTorsionForce', 381.4186716756578),\n",
       " ('NonbondedForce', 12147.284380939787),\n",
       " ('CMMotionRemover', 0.0)]"
      ]
     },
     "execution_count": 16,
     "metadata": {},
     "output_type": "execute_result"
    }
   ],
   "source": [
    "# Debugging as per Swails\n",
    "import parmed as pmd\n",
    "omm = pmd.openmm.load_topology(pmd.load_file('swails.mol2', structure=True).topology, pmd.load_file('smarty_system.xml'))\n",
    "omm.save('test.parm7', overwrite=True)\n",
    "omm.coordinates = pmd.load_file('swails.mol2', structure=True).coordinates\n",
    "omm.save('test.rst7', overwrite=True)\n",
    "parm = pmd.load_file('test.parm7', 'test.rst7')\n",
    "omm.coordinates = parm.coordinates # Make sure coordinates are identical\n",
    "pmd.openmm.energy_decomposition_system(omm, pmd.load_file('smarty_system.xml'))\n"
   ]
  },
  {
   "cell_type": "code",
   "execution_count": 17,
   "metadata": {
    "collapsed": false
   },
   "outputs": [
    {
     "data": {
      "text/plain": [
       "[('HarmonicBondForce', 42.56436386960996),\n",
       " ('HarmonicAngleForce', 109.54924584764584),\n",
       " ('PeriodicTorsionForce', 381.41867167565795),\n",
       " ('NonbondedForce', 12147.28437186874),\n",
       " ('CMMotionRemover', 0.0)]"
      ]
     },
     "execution_count": 17,
     "metadata": {},
     "output_type": "execute_result"
    }
   ],
   "source": [
    "pmd.openmm.energy_decomposition_system(parm, parm.createSystem())"
   ]
  },
  {
   "cell_type": "code",
   "execution_count": 18,
   "metadata": {
    "collapsed": false
   },
   "outputs": [
    {
     "data": {
      "text/plain": [
       "[('HarmonicBondForce', 42.56436386960996),\n",
       " ('HarmonicAngleForce', 109.54924584764584),\n",
       " ('PeriodicTorsionForce', 381.41867167565795),\n",
       " ('NonbondedForce', 12147.28437186874),\n",
       " ('CMMotionRemover', 0.0)]"
      ]
     },
     "execution_count": 18,
     "metadata": {},
     "output_type": "execute_result"
    }
   ],
   "source": [
    "omm2 = pmd.openmm.load_topology(pmd.load_file('swails.mol2', structure=True).topology, pmd.load_file('amber_system.xml'))\n",
    "omm2.coordinates = parm.coordinates\n",
    "pmd.openmm.energy_decomposition_system(omm2, pmd.load_file('amber_system.xml'))"
   ]
  },
  {
   "cell_type": "code",
   "execution_count": null,
   "metadata": {
    "collapsed": true
   },
   "outputs": [],
   "source": []
  }
 ],
 "metadata": {
  "kernelspec": {
   "display_name": "Python 2",
   "language": "python",
   "name": "python2"
  },
  "language_info": {
   "codemirror_mode": {
    "name": "ipython",
    "version": 2
   },
   "file_extension": ".py",
   "mimetype": "text/x-python",
   "name": "python",
   "nbconvert_exporter": "python",
   "pygments_lexer": "ipython2",
   "version": "2.7.11"
  }
 },
 "nbformat": 4,
 "nbformat_minor": 0
}
