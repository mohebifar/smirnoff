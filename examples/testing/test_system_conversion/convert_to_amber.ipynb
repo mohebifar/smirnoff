{
 "cells": [
  {
   "cell_type": "code",
   "execution_count": 1,
   "metadata": {
    "collapsed": false
   },
   "outputs": [],
   "source": [
    "from smarty.forcefield import *\n",
    "import parmed\n",
    "import openeye.oechem as oechem\n",
    "from simtk.openmm.app import PDBFile"
   ]
  },
  {
   "cell_type": "code",
   "execution_count": 2,
   "metadata": {
    "collapsed": false
   },
   "outputs": [],
   "source": [
    "pdbfile = PDBFile('cyclohexane_ethanol_0.4_0.6.pdb')\n",
    "ff = ForceField('../../smarty/data/forcefield/Frosst_AlkEtOH.ffxml')\n",
    "\n",
    "mols = []\n",
    "flavor = oechem.OEIFlavor_Generic_Default | oechem.OEIFlavor_MOL2_Default | oechem.OEIFlavor_MOL2_Forcefield\n",
    "for molname in ['cyclohexane', 'ethanol']:\n",
    "    ifs = oechem.oemolistream(molname+'.mol2')\n",
    "    ifs.SetFlavor( oechem.OEFormat_MOL2, flavor)\n",
    "    mol = oechem.OEGraphMol()\n",
    "    while oechem.OEReadMolecule(ifs, mol):\n",
    "        oechem.OETriposAtomNames(mol)\n",
    "        mols.append(oechem.OEGraphMol(mol))\n",
    "\n",
    "system = ff.createSystem( pdbfile.topology, mols)\n",
    "#Swap in positions\n",
    "integrator = openmm.VerletIntegrator(1.0 * unit.femtoseconds)\n",
    "context = openmm.Context(system, integrator)\n",
    "context.setPositions(pdbfile.positions)\n",
    "\n",
    "# Create parmed Structure\n",
    "structure = parmed.openmm.topsystem.load_topology( pdbfile.topology, system, pdbfile.positions)\n",
    "# Write AMBER parameter/crd\n",
    "#parmed.amber.AmberParm( system, structure)\n",
    "#help(structure.save)\n",
    "#Save prmtop\n",
    "structure.save('system.prmtop', overwrite=True)\n",
    "# Save crd\n",
    "structure.save('system.crd', format='rst7', overwrite=True)"
   ]
  },
  {
   "cell_type": "code",
   "execution_count": 4,
   "metadata": {
    "collapsed": false
   },
   "outputs": [
    {
     "ename": "Exception",
     "evalue": "NonbondedForce: There is already an exception for particles 2612 and 2615",
     "output_type": "error",
     "traceback": [
      "\u001b[0;31m---------------------------------------------------------------------------\u001b[0m",
      "\u001b[0;31mException\u001b[0m                                 Traceback (most recent call last)",
      "\u001b[0;32m<ipython-input-4-ffbe04d4de38>\u001b[0m in \u001b[0;36m<module>\u001b[0;34m()\u001b[0m\n\u001b[1;32m      1\u001b[0m \u001b[0;31m# Evaluate energy of OpenMM system and AMBER system to check that they are still the same\u001b[0m\u001b[0;34m\u001b[0m\u001b[0;34m\u001b[0m\u001b[0m\n\u001b[1;32m      2\u001b[0m \u001b[0;32mfrom\u001b[0m \u001b[0msmarty\u001b[0m\u001b[0;34m.\u001b[0m\u001b[0mforcefield_utils\u001b[0m \u001b[0;32mimport\u001b[0m \u001b[0;34m*\u001b[0m\u001b[0;34m\u001b[0m\u001b[0m\n\u001b[0;32m----> 3\u001b[0;31m \u001b[0mambertop\u001b[0m\u001b[0;34m,\u001b[0m \u001b[0mambersys\u001b[0m\u001b[0;34m,\u001b[0m \u001b[0mamberpos\u001b[0m \u001b[0;34m=\u001b[0m \u001b[0mcreate_system_from_amber\u001b[0m\u001b[0;34m(\u001b[0m \u001b[0;34m'system.prmtop'\u001b[0m\u001b[0;34m,\u001b[0m \u001b[0;34m'system.crd'\u001b[0m\u001b[0;34m)\u001b[0m\u001b[0;34m\u001b[0m\u001b[0m\n\u001b[0m\u001b[1;32m      4\u001b[0m \u001b[0;31m#groups0, groups1, energy0, energy1 = compare_system_energies( ambertop, pdbfile.topology, ambersys, system)\u001b[0m\u001b[0;34m\u001b[0m\u001b[0;34m\u001b[0m\u001b[0m\n\u001b[1;32m      5\u001b[0m \u001b[0;31m#print(energy0, energy1)\u001b[0m\u001b[0;34m\u001b[0m\u001b[0;34m\u001b[0m\u001b[0m\n",
      "\u001b[0;32m/Users/dmobley/anaconda/lib/python2.7/site-packages/smarty-0.1.4-py2.7.egg/smarty/forcefield_utils.pyc\u001b[0m in \u001b[0;36mcreate_system_from_amber\u001b[0;34m(prmtop_filename, crd_filename, verbose)\u001b[0m\n\u001b[1;32m     68\u001b[0m     \u001b[0mprmtop\u001b[0m \u001b[0;34m=\u001b[0m \u001b[0mapp\u001b[0m\u001b[0;34m.\u001b[0m\u001b[0mAmberPrmtopFile\u001b[0m\u001b[0;34m(\u001b[0m\u001b[0mprmtop_filename\u001b[0m\u001b[0;34m)\u001b[0m\u001b[0;34m\u001b[0m\u001b[0m\n\u001b[1;32m     69\u001b[0m     \u001b[0mtopology\u001b[0m \u001b[0;34m=\u001b[0m \u001b[0mprmtop\u001b[0m\u001b[0;34m.\u001b[0m\u001b[0mtopology\u001b[0m\u001b[0;34m\u001b[0m\u001b[0m\n\u001b[0;32m---> 70\u001b[0;31m     \u001b[0msystem\u001b[0m \u001b[0;34m=\u001b[0m \u001b[0mprmtop\u001b[0m\u001b[0;34m.\u001b[0m\u001b[0mcreateSystem\u001b[0m\u001b[0;34m(\u001b[0m\u001b[0mnonbondedMethod\u001b[0m \u001b[0;34m=\u001b[0m \u001b[0mapp\u001b[0m\u001b[0;34m.\u001b[0m\u001b[0mNoCutoff\u001b[0m\u001b[0;34m,\u001b[0m \u001b[0mconstraints\u001b[0m \u001b[0;34m=\u001b[0m \u001b[0mNone\u001b[0m\u001b[0;34m,\u001b[0m \u001b[0mimplicitSolvent\u001b[0m \u001b[0;34m=\u001b[0m \u001b[0mNone\u001b[0m \u001b[0;34m)\u001b[0m\u001b[0;34m\u001b[0m\u001b[0m\n\u001b[0m\u001b[1;32m     71\u001b[0m \u001b[0;34m\u001b[0m\u001b[0m\n\u001b[1;32m     72\u001b[0m     \u001b[0;31m# Read coordinates\u001b[0m\u001b[0;34m\u001b[0m\u001b[0;34m\u001b[0m\u001b[0m\n",
      "\u001b[0;32m/Users/dmobley/anaconda/lib/python2.7/site-packages/simtk/openmm/app/amberprmtopfile.pyc\u001b[0m in \u001b[0;36mcreateSystem\u001b[0;34m(self, nonbondedMethod, nonbondedCutoff, constraints, rigidWater, implicitSolvent, implicitSolventSaltConc, implicitSolventKappa, temperature, soluteDielectric, solventDielectric, removeCMMotion, hydrogenMass, ewaldErrorTolerance, switchDistance)\u001b[0m\n\u001b[1;32m    272\u001b[0m                         \u001b[0mflexibleConstraints\u001b[0m\u001b[0;34m=\u001b[0m\u001b[0mFalse\u001b[0m\u001b[0;34m,\u001b[0m \u001b[0mgbmodel\u001b[0m\u001b[0;34m=\u001b[0m\u001b[0mimplicitString\u001b[0m\u001b[0;34m,\u001b[0m \u001b[0msoluteDielectric\u001b[0m\u001b[0;34m=\u001b[0m\u001b[0msoluteDielectric\u001b[0m\u001b[0;34m,\u001b[0m\u001b[0;34m\u001b[0m\u001b[0m\n\u001b[1;32m    273\u001b[0m                         \u001b[0msolventDielectric\u001b[0m\u001b[0;34m=\u001b[0m\u001b[0msolventDielectric\u001b[0m\u001b[0;34m,\u001b[0m \u001b[0mimplicitSolventKappa\u001b[0m\u001b[0;34m=\u001b[0m\u001b[0mimplicitSolventKappa\u001b[0m\u001b[0;34m,\u001b[0m\u001b[0;34m\u001b[0m\u001b[0m\n\u001b[0;32m--> 274\u001b[0;31m                         rigidWater=rigidWater, elements=self.elements)\n\u001b[0m\u001b[1;32m    275\u001b[0m \u001b[0;34m\u001b[0m\u001b[0m\n\u001b[1;32m    276\u001b[0m         \u001b[0;32mif\u001b[0m \u001b[0mhydrogenMass\u001b[0m \u001b[0;32mis\u001b[0m \u001b[0;32mnot\u001b[0m \u001b[0mNone\u001b[0m\u001b[0;34m:\u001b[0m\u001b[0;34m\u001b[0m\u001b[0m\n",
      "\u001b[0;32m/Users/dmobley/anaconda/lib/python2.7/site-packages/simtk/openmm/app/internal/amber_file_parser.pyc\u001b[0m in \u001b[0;36mreadAmberSystem\u001b[0;34m(topology, prmtop_filename, prmtop_loader, shake, gbmodel, soluteDielectric, solventDielectric, implicitSolventKappa, nonbondedCutoff, nonbondedMethod, scee, scnb, mm, verbose, EwaldErrorTolerance, flexibleConstraints, rigidWater, elements)\u001b[0m\n\u001b[1;32m    868\u001b[0m         \u001b[0mepsilon\u001b[0m \u001b[0;34m/=\u001b[0m \u001b[0m_scnb\u001b[0m\u001b[0;34m\u001b[0m\u001b[0m\n\u001b[1;32m    869\u001b[0m         \u001b[0msigma\u001b[0m \u001b[0;34m=\u001b[0m \u001b[0mrMin\u001b[0m \u001b[0;34m*\u001b[0m \u001b[0msigmaScale\u001b[0m\u001b[0;34m\u001b[0m\u001b[0m\n\u001b[0;32m--> 870\u001b[0;31m         \u001b[0mforce\u001b[0m\u001b[0;34m.\u001b[0m\u001b[0maddException\u001b[0m\u001b[0;34m(\u001b[0m\u001b[0miAtom\u001b[0m\u001b[0;34m,\u001b[0m \u001b[0mlAtom\u001b[0m\u001b[0;34m,\u001b[0m \u001b[0mchargeProd\u001b[0m\u001b[0;34m,\u001b[0m \u001b[0msigma\u001b[0m\u001b[0;34m,\u001b[0m \u001b[0mepsilon\u001b[0m\u001b[0;34m)\u001b[0m\u001b[0;34m\u001b[0m\u001b[0m\n\u001b[0m\u001b[1;32m    871\u001b[0m         \u001b[0mexcludedAtomPairs\u001b[0m\u001b[0;34m.\u001b[0m\u001b[0madd\u001b[0m\u001b[0;34m(\u001b[0m\u001b[0mmin\u001b[0m\u001b[0;34m(\u001b[0m\u001b[0;34m(\u001b[0m\u001b[0miAtom\u001b[0m\u001b[0;34m,\u001b[0m \u001b[0mlAtom\u001b[0m\u001b[0;34m)\u001b[0m\u001b[0;34m,\u001b[0m \u001b[0;34m(\u001b[0m\u001b[0mlAtom\u001b[0m\u001b[0;34m,\u001b[0m \u001b[0miAtom\u001b[0m\u001b[0;34m)\u001b[0m\u001b[0;34m)\u001b[0m\u001b[0;34m)\u001b[0m\u001b[0;34m\u001b[0m\u001b[0m\n\u001b[1;32m    872\u001b[0m \u001b[0;34m\u001b[0m\u001b[0m\n",
      "\u001b[0;32m/Users/dmobley/anaconda/lib/python2.7/site-packages/simtk/openmm/openmm.pyc\u001b[0m in \u001b[0;36maddException\u001b[0;34m(self, particle1, particle2, chargeProd, sigma, epsilon, replace)\u001b[0m\n\u001b[1;32m  14854\u001b[0m             \u001b[0mthe\u001b[0m \u001b[0mindex\u001b[0m \u001b[0mof\u001b[0m \u001b[0mthe\u001b[0m \u001b[0mexception\u001b[0m \u001b[0mthat\u001b[0m \u001b[0mwas\u001b[0m \u001b[0madded\u001b[0m\u001b[0;34m\u001b[0m\u001b[0m\n\u001b[1;32m  14855\u001b[0m         \"\"\"\n\u001b[0;32m> 14856\u001b[0;31m         \u001b[0;32mreturn\u001b[0m \u001b[0m_openmm\u001b[0m\u001b[0;34m.\u001b[0m\u001b[0mNonbondedForce_addException\u001b[0m\u001b[0;34m(\u001b[0m\u001b[0mself\u001b[0m\u001b[0;34m,\u001b[0m \u001b[0mparticle1\u001b[0m\u001b[0;34m,\u001b[0m \u001b[0mparticle2\u001b[0m\u001b[0;34m,\u001b[0m \u001b[0mchargeProd\u001b[0m\u001b[0;34m,\u001b[0m \u001b[0msigma\u001b[0m\u001b[0;34m,\u001b[0m \u001b[0mepsilon\u001b[0m\u001b[0;34m,\u001b[0m \u001b[0mreplace\u001b[0m\u001b[0;34m)\u001b[0m\u001b[0;34m\u001b[0m\u001b[0m\n\u001b[0m\u001b[1;32m  14857\u001b[0m \u001b[0;34m\u001b[0m\u001b[0m\n\u001b[1;32m  14858\u001b[0m \u001b[0;34m\u001b[0m\u001b[0m\n",
      "\u001b[0;31mException\u001b[0m: NonbondedForce: There is already an exception for particles 2612 and 2615"
     ]
    }
   ],
   "source": [
    "# Evaluate energy of OpenMM system and AMBER system to check that they are still the same\n",
    "from smarty.forcefield_utils import *\n",
    "ambertop, ambersys, amberpos = create_system_from_amber( 'system.prmtop', 'system.crd')\n",
    "#groups0, groups1, energy0, energy1 = compare_system_energies( ambertop, pdbfile.topology, ambersys, system)\n",
    "#print(energy0, energy1)\n",
    "# What if I load using ParmEd?\n",
    "structure = parmed.amber.AmberParm( 'system.prmtop', 'system.crd')\n",
    "\n",
    "# Well, that's not good -- it fails on creating the AMBER system. Is it an issue with the AMBER files? \n",
    "# Let's cross compare with those in the distribution\n",
    "# This runs properly, while the above does not. So it's some issue with the AMBER files.\n",
    "#ambertop, ambersys, amberpos = create_system_from_amber( '../../../smarty/data/systems/amber/cyclohexane_ethanol_0.4_0.6.prmtop', '../../../smarty/data/systems/amber/cyclohexane_ethanol_0.4_0.6.inpcrd')"
   ]
  },
  {
   "cell_type": "code",
   "execution_count": 47,
   "metadata": {
    "collapsed": false
   },
   "outputs": [
    {
     "data": {
      "text/plain": [
       "['__class__',\n",
       " '__copy__',\n",
       " '__deepcopy__',\n",
       " '__del__',\n",
       " '__delattr__',\n",
       " '__dict__',\n",
       " '__doc__',\n",
       " '__format__',\n",
       " '__getattr__',\n",
       " '__getattribute__',\n",
       " '__getstate__',\n",
       " '__hash__',\n",
       " '__init__',\n",
       " '__module__',\n",
       " '__new__',\n",
       " '__reduce__',\n",
       " '__reduce_ex__',\n",
       " '__repr__',\n",
       " '__setattr__',\n",
       " '__setstate__',\n",
       " '__sizeof__',\n",
       " '__str__',\n",
       " '__subclasshook__',\n",
       " '__swig_destroy__',\n",
       " '__swig_getmethods__',\n",
       " '__swig_setmethods__',\n",
       " '__weakref__',\n",
       " 'addConstraint',\n",
       " 'addForce',\n",
       " 'addParticle',\n",
       " 'getConstraintParameters',\n",
       " 'getDefaultPeriodicBoxVectors',\n",
       " 'getForce',\n",
       " 'getForces',\n",
       " 'getNumConstraints',\n",
       " 'getNumForces',\n",
       " 'getNumParticles',\n",
       " 'getParticleMass',\n",
       " 'getVirtualSite',\n",
       " 'isVirtualSite',\n",
       " 'removeConstraint',\n",
       " 'removeForce',\n",
       " 'setConstraintParameters',\n",
       " 'setDefaultPeriodicBoxVectors',\n",
       " 'setParticleMass',\n",
       " 'setVirtualSite',\n",
       " 'this',\n",
       " 'usesPeriodicBoundaryConditions']"
      ]
     },
     "execution_count": 47,
     "metadata": {},
     "output_type": "execute_result"
    }
   ],
   "source": [
    "dir(system)"
   ]
  },
  {
   "cell_type": "code",
   "execution_count": 44,
   "metadata": {
    "collapsed": false
   },
   "outputs": [
    {
     "name": "stdout",
     "output_type": "stream",
     "text": [
      "-0.0966999977827\n",
      "0.129700005054\n",
      "-0.599500000477\n",
      "0.0447999984026\n",
      "0.0447999984026\n",
      "0.0447999984026\n",
      "0.017100000754\n",
      "0.017100000754\n",
      "0.397899985313\n",
      "0.0377999991179\n",
      "0.0377999991179\n",
      "0.0377999991179\n",
      "0.0377999991179\n",
      "0.0377999991179\n",
      "0.0377999991179\n",
      "0.0377999991179\n",
      "0.0377999991179\n",
      "0.0377999991179\n",
      "0.0\n",
      "0.0\n",
      "0.0\n",
      "0.0\n",
      "0.0\n",
      "0.0\n",
      "0.0\n",
      "0.0\n",
      "0.0\n",
      "0.0\n",
      "0.0\n",
      "0.0\n",
      "0.0\n",
      "0.0\n",
      "0.0\n",
      "0.0\n",
      "0.0\n",
      "0.0\n",
      "Charges in oemols:\n",
      "-0.076099999249\n",
      "-0.0754999965429\n",
      "-0.0754999965429\n",
      "-0.0754999965429\n",
      "-0.0754999965429\n",
      "-0.0754999965429\n",
      "0.0377999991179\n",
      "0.0377999991179\n",
      "0.0377999991179\n",
      "0.0377999991179\n",
      "0.0377999991179\n",
      "0.0377999991179\n",
      "0.0377999991179\n",
      "0.0377999991179\n",
      "0.0377999991179\n",
      "0.0377999991179\n",
      "0.0377999991179\n",
      "0.0377999991179\n",
      "-0.0966999977827\n",
      "0.129700005054\n",
      "-0.599500000477\n",
      "0.0447999984026\n",
      "0.0447999984026\n",
      "0.0447999984026\n",
      "0.017100000754\n",
      "0.017100000754\n",
      "0.397899985313\n"
     ]
    }
   ],
   "source": [
    "# Seems to have zero charges for subsequent instances of molecule in topology; is this correct?\n",
    "\n",
    "# Troubleshoot charge issue - print charges as seen in parmed\n",
    "dir(structure.residues[2].atoms[0])\n",
    "structure.residues[1].atoms[0].charge\n",
    "for atom in structure.residues[0]: print atom.charge\n",
    "for atom in structure.residues[1]: print atom.charge\n",
    "    \n",
    "# Compare with charges in oemols - these are correct\n",
    "print(\"Charges in oemols:\")\n",
    "for mol in mols:\n",
    "    for atom in mol.GetAtoms():\n",
    "        print atom.GetPartialCharge()\n",
    "        \n",
    "# Can I access charges in OpenMM system?"
   ]
  },
  {
   "cell_type": "code",
   "execution_count": null,
   "metadata": {
    "collapsed": true
   },
   "outputs": [],
   "source": []
  }
 ],
 "metadata": {
  "kernelspec": {
   "display_name": "Python 2",
   "language": "python",
   "name": "python2"
  },
  "language_info": {
   "codemirror_mode": {
    "name": "ipython",
    "version": 2
   },
   "file_extension": ".py",
   "mimetype": "text/x-python",
   "name": "python",
   "nbconvert_exporter": "python",
   "pygments_lexer": "ipython2",
   "version": "2.7.11"
  }
 },
 "nbformat": 4,
 "nbformat_minor": 0
}
