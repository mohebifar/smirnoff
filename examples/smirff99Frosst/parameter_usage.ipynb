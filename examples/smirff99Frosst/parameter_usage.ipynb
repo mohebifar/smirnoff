{
 "cells": [
  {
   "cell_type": "markdown",
   "metadata": {},
   "source": [
    "# parm@frosst-y to SMIRFF\n",
    "\n",
    "This notebook provides examples/utility functionality to assist with conversion of parm@frosst or relatives to SMIRFF format. Particularly, Christopher Bayly is generating modified AMBER `frcmod` files where the first entry for each parameter (i.e. `CT-CT-CT`) is replaced by the relevant SMIRKS pattern, for conversion into SMIRFF FFXML format. \n",
    "\n",
    "This notebook will:\n",
    "1. Convert a specified smirks-frcmod file to SMIRFF FFXML\n",
    "2. Generate (or take in) a set of molecules in OpenEye oemol format\n",
    "3. Use the SMIRFF `ForceField` class to determine (a) which parameters are used in which molecules; (b) which molecules contain a specified parameter; and (c) which molecules do NOT contain a specified parameter.\n",
    "\n",
    "Bayly will potentially also update the notebook with visualization for 3(b) and 3(c).\n",
    "\n",
    "\n",
    "**Authors**:\n",
    "* David L. Mobley (UCI)\n"
   ]
  },
  {
   "cell_type": "code",
   "execution_count": 1,
   "metadata": {
    "collapsed": false
   },
   "outputs": [],
   "source": [
    "# Imports\n",
    "from __future__ import print_function\n",
    "from convert_frcmod import *\n",
    "import openeye.oechem as oechem\n",
    "import openeye.oeiupac as oeiupac\n",
    "import openeye.oeomega as oeomega\n",
    "import openeye.oedepict as oedepict\n",
    "from IPython.display import display\n",
    "from smarty.forcefield import *\n",
    "from smarty.forcefield_utils import get_molecule_parameterIDs\n",
    "from smarty.utils import *\n",
    "% matplotlib inline\n",
    "import matplotlib\n",
    "import numpy as np\n",
    "import pylab as pl\n",
    "import matplotlib.pyplot as plt"
   ]
  },
  {
   "cell_type": "code",
   "execution_count": 2,
   "metadata": {
    "collapsed": true
   },
   "outputs": [],
   "source": [
    "def depictAtomByIdx(mol, atomIdxList, width=500, height=200):\n",
    "    molCopy = oechem.OEMol( mol)\n",
    "    atomBondSet = oechem.OEAtomBondSet()\n",
    "    for atom in mol.GetAtoms():\n",
    "        if atom.GetIdx() in atomIdxList:\n",
    "            atomBondSet.AddAtom( atom)\n",
    "            for bond in atom.GetBonds():\n",
    "                nbrAtom = bond.GetNbr(atom)\n",
    "                nbrIdx = nbrAtom.GetIdx()\n",
    "                if (nbrIdx in atomIdxList) and nbrIdx>atom.GetIdx():\n",
    "                    atomBondSet.AddBond( bond)\n",
    "    from IPython.display import Image\n",
    "    dopt = oedepict.OEPrepareDepictionOptions()\n",
    "    dopt.SetDepictOrientation( oedepict.OEDepictOrientation_Horizontal)\n",
    "    dopt.SetSuppressHydrogens(False)\n",
    "    oedepict.OEPrepareDepiction(mol, dopt)\n",
    "    opts = oedepict.OE2DMolDisplayOptions(width, height, oedepict.OEScale_AutoScale)\n",
    "    disp = oedepict.OE2DMolDisplay(mol, opts)\n",
    "    aroStyle = oedepict.OEHighlightStyle_Color\n",
    "    aroColor = oechem.OEColor(oechem.OEGrey)\n",
    "    oedepict.OEAddHighlighting(disp, aroColor, aroStyle, \n",
    "                               oechem.OEIsAromaticAtom(), oechem.OEIsAromaticBond() )\n",
    "    hstyle = oedepict.OEHighlightStyle_BallAndStick\n",
    "    hcolor = oechem.OEColor(oechem.OELightGreen)\n",
    "    oedepict.OEAddHighlighting(disp, hcolor, hstyle, atomBondSet)\n",
    "    ofs = oechem.oeosstream()\n",
    "    oedepict.OERenderMolecule(ofs, 'png', disp)\n",
    "    ofs.flush()\n",
    "    mol = molCopy\n",
    "    return Image(data = \"\".join(ofs.str()))"
   ]
  },
  {
   "cell_type": "code",
   "execution_count": 3,
   "metadata": {
    "collapsed": true
   },
   "outputs": [],
   "source": [
    "def getMolParamIDToAtomIndex( oemol, ff):\n",
    "    \"\"\"Take an OEMol and a SMIRFF forcefield object and return a dictionary,\n",
    "    keyed by parameter ID, where each entry is a tuple of\n",
    "    ( smirks, [[atom1, ... atomN], [atom1, ... atomN]) giving the SMIRKS\n",
    "    corresponding to that parameter ID and a list of the atom groups in that\n",
    "    molecule that parameter is applied to.\n",
    "\n",
    "    Parameters\n",
    "    ----------\n",
    "    oemol : OEMol\n",
    "        OpenEye OEMol with the molecule to investigate.\n",
    "    ff : ForceField\n",
    "        SMIRFF ForceField object (obtained from an ffxml via ForceField(ffxml)) containing FF of interest.\n",
    "\n",
    "    Returns\n",
    "    -------\n",
    "    param_usage : dictionary\n",
    "        Dictionary, keyed by parameter ID, where each entry is a tuple of\n",
    "        ( smirks, [[atom1, ... atomN], [atom1, ... atomN]) giving the SMIRKS\n",
    "        corresponding to that parameter ID and a list of the atom groups in\n",
    "        that molecule that parameter is applied to.\n",
    "\n",
    "    \"\"\"\n",
    "    labels = ff.labelMolecules([oemol])\n",
    "    param_usage = {}\n",
    "    for mol_entry in range(len(labels)):\n",
    "        for force in labels[mol_entry].keys():\n",
    "            for (atom_indices, pid, smirks) in labels[mol_entry][force]:\n",
    "                if not pid in param_usage:\n",
    "                    param_usage[pid] = (smirks, [atom_indices])\n",
    "                else:\n",
    "                    param_usage[pid][1].append( atom_indices )\n",
    "\n",
    "    return param_usage"
   ]
  },
  {
   "cell_type": "markdown",
   "metadata": {},
   "source": [
    "## 1. Convert specified SMIRKS `frcmod` file to SMIRFF FFXML"
   ]
  },
  {
   "cell_type": "code",
   "execution_count": 24,
   "metadata": {
    "collapsed": true
   },
   "outputs": [],
   "source": [
    "# Input and output info\n",
    "#infile = 'example.frcmod' # smirffish frcmod file to convert\n",
    "infile = 'smirffishFrcmod.parm99Frosst.txt' # smirffish frcmod file to convert\n",
    "smirffFilename = 'smirff99Frosst'\n",
    "ffxmlFile = smirffFilename+'.ffxml'\n",
    "template = 'template.ffxml' # Template FFXML file without parameters (but with remainder of contents)"
   ]
  },
  {
   "cell_type": "code",
   "execution_count": 25,
   "metadata": {
    "collapsed": false
   },
   "outputs": [
    {
     "name": "stdout",
     "output_type": "stream",
     "text": [
      "Error: parameter for [#6X3:1]-[#8X2:2] is already present in forcefield.\n",
      "Error: parameter for [#6X2:1]#[#7X1:2] is already present in forcefield.\n",
      "Error: parameter for [#6X2:1]#[#6X2:2] is already present in forcefield.\n",
      "Error: parameter for [*:1]~[#6X2:2]~[*:3] is already present in forcefield.\n",
      "Error: parameter for [*r6:1]~@[*r5:2]~@[*r5R2:3] is already present in forcefield.\n",
      "Error: parameter for [*:1]~[#6X3:2]~[*:3] is already present in forcefield.\n",
      "Error: parameter for [#1:1]-[#6X3:2]~[*:3] is already present in forcefield.\n",
      "Error: parameter for [#1:1]-[#6X3:2]-[#1:3] is already present in forcefield.\n",
      "Error: parameter for [*:1]~[#6X4:2]-[*:3] is already present in forcefield.\n",
      "Error: parameter for [*:1]-[#7X3$(*~[#6X3,#6X2,#7X2+0]):2]-[*:3] is already present in forcefield.\n",
      "Error: parameter for [*:1]-[#8:2]-[*:3] is already present in forcefield.\n"
     ]
    }
   ],
   "source": [
    "# Convert\n",
    "convert_frcmod_to_ffxml( infile, template, ffxmlFile)"
   ]
  },
  {
   "cell_type": "code",
   "execution_count": 26,
   "metadata": {
    "collapsed": true
   },
   "outputs": [],
   "source": [
    "# Load SMIRFF FFXML\n",
    "ff = ForceField(ffxmlFile) # We will use this below to access details of parameters"
   ]
  },
  {
   "cell_type": "markdown",
   "metadata": {},
   "source": [
    "## 2. Generate or take in a set of molecules in OpenEye OEMol format\n",
    "\n",
    "Here we will take in the ZINC parm@frosst subset from CCL (which is also packaged with SMARTY) and read all the molecules from it."
   ]
  },
  {
   "cell_type": "code",
   "execution_count": 27,
   "metadata": {
    "collapsed": false
   },
   "outputs": [
    {
     "name": "stdout",
     "output_type": "stream",
     "text": [
      "Loading molecules from '/Users/bayly/miniconda/lib/python2.7/site-packages/smarty/data/molecules/zinc-subset-tripos.mol2.gz'...\n",
      "7505 molecules read\n",
      "1.224 s elapsed\n"
     ]
    }
   ],
   "source": [
    "# Use utils wrapper functions to find the file and read all of the molecules\n",
    "oemols = read_molecules( get_data_filename('molecules/zinc-subset-tripos.mol2.gz'))\n",
    "\n",
    "# For use later, generate isomeric SMILES for these so we can easily look up molecules by smiles\n",
    "isosmiles_to_mol = {}\n",
    "for mol in oemols:\n",
    "    smi = oechem.OECreateIsoSmiString(mol)\n",
    "    isosmiles_to_mol[smi] = OEMol(mol)"
   ]
  },
  {
   "cell_type": "markdown",
   "metadata": {},
   "source": [
    "## 3. Determine parameter usage in molecules\n",
    "\n",
    "Here we will use the SMIRFF ForceField class to determine (a) which parameters are used in which molecules; (b) which molecules contain a specified parameter; and (c) which molecules do NOT contain a specified parameter. We begin by just loading the SMIRFF forcefield we generated in section 1."
   ]
  },
  {
   "cell_type": "markdown",
   "metadata": {},
   "source": [
    "### 3(a). Determine which parameters are used in which molecules\n",
    "\n",
    "Here we determine which parameters are actually used in which molecules, and make a couple example plots of the frequency of parameter occurrences for some of our example parameters."
   ]
  },
  {
   "cell_type": "code",
   "execution_count": 28,
   "metadata": {
    "collapsed": false
   },
   "outputs": [],
   "source": [
    "# Use utility function from forcefield_utils to get which parameters are in which molecules\n",
    "# and which molecules each parameter occurs in. \n",
    "# The returns are dictionaries, and molecule identifiers are isomeric smiles generated from the OEMols\n",
    "# USE TEST FILE CONTAINING GENERICS RATHER THAN OUTPUT FILE FOR NOW\n",
    "parameters_by_molecule, parameters_by_ID = get_molecule_parameterIDs( oemols, ffxmlFile) #Slow\n",
    "\n",
    "# Prep for making graphs - determine all parameters used at all\n",
    "# (TO DO - probably would be useful to determine if any parameters aren't used at all)\n",
    "param_ids = set()\n",
    "for key in parameters_by_molecule:\n",
    "    param_ids = param_ids.union(set(parameters_by_molecule[key]))\n",
    "\n",
    "# Count occurrences of each parameter\n",
    "param_id_counts = {}\n",
    "for param_id in param_ids:\n",
    "    param_id_counts[param_id] = 0\n",
    "    for key in parameters_by_molecule:\n",
    "        param_id_counts[param_id] += parameters_by_molecule[key].count(param_id)"
   ]
  },
  {
   "cell_type": "markdown",
   "metadata": {},
   "source": [
    "For fun/info, do a quick graph of frequency of occurrence of particular parameters. Here, let's just do bond parameters"
   ]
  },
  {
   "cell_type": "code",
   "execution_count": 29,
   "metadata": {
    "collapsed": false
   },
   "outputs": [
    {
     "data": {
      "image/png": "[encoded data removed]",
      "text/plain": [
       "<matplotlib.figure.Figure at 0x135939110>"
      ]
     },
     "metadata": {},
     "output_type": "display_data"
    }
   ],
   "source": [
    "# Graph occurrences of bond parameters\n",
    "parm_ids = [ pid for pid in param_ids if pid[0]=='a']\n",
    "parm_ids.sort()\n",
    "counts_parms = [param_id_counts[parm_id] for parm_id in parm_ids]\n",
    "#print( parm_ids)\n",
    "#print( counts_parms)\n",
    "indices = np.arange(len(parm_ids))\n",
    "fix, ax = plt.subplots(1,1,figsize=(16,5))\n",
    "rects2 = ax.bar(indices, counts_parms )\n",
    "ax.set_ylabel('Count')\n",
    "ax.set_xticks( indices)\n",
    "ax.set_xticklabels( parm_ids, rotation=-60, ha='left')\n",
    "plt.yscale('log', nonposy='clip')\n",
    "plt.show()"
   ]
  },
  {
   "cell_type": "markdown",
   "metadata": {},
   "source": [
    "### 3(b)-3(c). Determine which molecules do/do not contain selected parameter\n",
    "\n",
    "Determine which molecules do and do not contain a specified parameter; give access to isomeric smiles and OEMol for each molecule in each case."
   ]
  },
  {
   "cell_type": "code",
   "execution_count": 30,
   "metadata": {
    "collapsed": false
   },
   "outputs": [
    {
     "name": "stdout",
     "output_type": "stream",
     "text": [
      "For parameter a1, the relevant parameters are:\n",
      "{'smirks': '[*:1]~[*:2]~[*:3]', 'k': '160.0', 'angle': '120.0', 'id': 'a1'}\n",
      "\n",
      "There are 0 molecules containing that parameter and 7505 which do not, out of 7505.\n",
      "\n",
      "First 10 molecules not containing that parameter:\n",
      "   CS(=O)(=O)N1CCC(CC1)n2cc(nn2)c3ccsc3\n",
      "   c1cc2cccc3c2c(c1)c(=C(C#N)C#N)[nH]3\n",
      "   CCSc1nnc(n1C)CSc2c([nH]c3c2cccc3)C\n",
      "   c1ccc(cc1)c2cc(=O)[nH]c(=O)s2\n",
      "   Cc1ccc(cc1)C2=CSNC(=N2)c3ccccc3OC\n",
      "   c1nc2c(c(n1)N)NC(=O)C2\n",
      "   c1nc2n(n1)C(C(=O)N2)CC(=O)[O-]\n",
      "   CN1C(=O)c2ccccc2C(=C3C=CC(=O)C=C3)N1\n",
      "   CC(=O)C1=C(c2ccccc2S(=O)(=O)N1)[O-]\n",
      "   Cc1cc(=O)n2c(n1)sc(n2)n3cnc(n3)C#N\n"
     ]
    }
   ],
   "source": [
    "# INPUT: Pick what parameter to look at\n",
    "parameter_id = 'a1' \n",
    "\n",
    "# For info, get details of that parameter\n",
    "params = ff.getParameter(paramID=parameter_id)\n",
    "print(\"For parameter %s, the relevant parameters are:\" % parameter_id)\n",
    "print(params)\n",
    "\n",
    "# Find molecules which do/do not use that parameter\n",
    "mols_with_param = []\n",
    "mols_wo_param = []\n",
    "for isosmi in parameters_by_molecule:\n",
    "    # Store a tuple of (isomeric smiles, oemol) for each\n",
    "    if parameter_id in parameters_by_molecule[isosmi]:\n",
    "        mols_with_param.append( (isosmi, isosmiles_to_mol[isosmi] ))\n",
    "    else:\n",
    "        mols_wo_param.append( (isosmi, isosmiles_to_mol[isosmi] ))\n",
    "\n",
    "print(\"\\nThere are %s molecules containing that parameter and %s which do not, out of %s.\\n\" % \n",
    "      (len(mols_with_param), len(mols_wo_param), len(isosmiles_to_mol)))\n",
    "\n",
    "# Print first 10 molecules not containing parameter\n",
    "print(\"First 10 molecules not containing that parameter:\")\n",
    "for i in range(10):\n",
    "    print(\"   %s\" % mols_wo_param[i][0])\n",
    "# Print first 10 molecules containing parameter\n",
    "#print(\"\\nFirst 10 molecules containing that parameter:\")\n",
    "#for i in range(10):\n",
    "#    print(\"   %s\" % mols_with_param[i][0])"
   ]
  },
  {
   "cell_type": "code",
   "execution_count": 31,
   "metadata": {
    "collapsed": false
   },
   "outputs": [],
   "source": [
    "def DepictMolWithParam( mol, forcefield, param_ID):\n",
    "    paramOccDict = getMolParamIDToAtomIndex( mol, forcefield)\n",
    "    smirks, occIdx = paramOccDict[param_ID]\n",
    "    for IdxByOccurrence in occIdx:\n",
    "        display( depictAtomByIdx(mol, IdxByOccurrence))"
   ]
  },
  {
   "cell_type": "code",
   "execution_count": 32,
   "metadata": {
    "collapsed": false,
    "scrolled": false
   },
   "outputs": [],
   "source": [
    "limit = len(mols_with_param)\n",
    "if limit>20:\n",
    "    limit = 20\n",
    "for idx in range(0, limit):\n",
    "#for idx in range(0,10):\n",
    "    smiles = mols_with_param[idx][0]\n",
    "    mol = mols_with_param[idx][1]\n",
    "    print('Selected smiles is %s' % smiles)\n",
    "    print( 'mol title and NumAtoms: ', mol.GetTitle(), mol.NumAtoms() )\n",
    "    DepictMolWithParam( mol, ff, parameter_id)"
   ]
  },
  {
   "cell_type": "code",
   "execution_count": null,
   "metadata": {
    "collapsed": true
   },
   "outputs": [],
   "source": []
  }
 ],
 "metadata": {
  "kernelspec": {
   "display_name": "Python 2",
   "language": "python",
   "name": "python2"
  },
  "language_info": {
   "codemirror_mode": {
    "name": "ipython",
    "version": 2
   },
   "file_extension": ".py",
   "mimetype": "text/x-python",
   "name": "python",
   "nbconvert_exporter": "python",
   "pygments_lexer": "ipython2",
   "version": "2.7.11"
  }
 },
 "nbformat": 4,
 "nbformat_minor": 0
}
