{
 "cells": [
  {
   "cell_type": "markdown",
   "metadata": {},
   "source": [
    "# Loading and modifying a SMIRFF forcefield\n",
    "\n",
    "This notebook illustrates how to load a SMIRFF forcefield, apply it to an example molecule, get the energy, then manipulate the parameters in the forcefield and update the energy.\n",
    "\n",
    "## Prep some utility functions/import stuff"
   ]
  },
  {
   "cell_type": "code",
   "execution_count": 8,
   "metadata": {
    "collapsed": true
   },
   "outputs": [],
   "source": [
    "# Imports needed\n",
    "from smarty import ForceField\n",
    "import openeye\n",
    "from openeye import oechem\n",
    "import smarty\n",
    "from smarty.utils import get_data_filename\n",
    "from simtk import openmm\n",
    "from simtk import unit\n",
    "import numpy as np"
   ]
  },
  {
   "cell_type": "code",
   "execution_count": 9,
   "metadata": {
    "collapsed": true
   },
   "outputs": [],
   "source": [
    "# Define utility function we'll use to get energy of an OpenMM system\n",
    "def get_energy(system, positions):\n",
    "    \"\"\"\n",
    "    Return the potential energy.\n",
    "\n",
    "    Parameters\n",
    "    ----------\n",
    "    system : simtk.openmm.System\n",
    "        The system to check\n",
    "    positions : simtk.unit.Quantity of dimension (natoms,3) with units of length\n",
    "        The positions to use\n",
    "    Returns\n",
    "    ---------\n",
    "    energy\n",
    "    \"\"\"\n",
    "\n",
    "    integrator = openmm.VerletIntegrator(1.0 * unit.femtoseconds)\n",
    "    context = openmm.Context(system, integrator)\n",
    "    context.setPositions(positions)\n",
    "    state = context.getState(getEnergy=True)\n",
    "    energy = state.getPotentialEnergy() / unit.kilocalories_per_mole\n",
    "    return energy"
   ]
  },
  {
   "cell_type": "markdown",
   "metadata": {},
   "source": [
    "## Load an OEMol, evaluate energy before and after a parameter modification"
   ]
  },
  {
   "cell_type": "code",
   "execution_count": 17,
   "metadata": {
    "collapsed": false
   },
   "outputs": [
    {
     "name": "stdout",
     "output_type": "stream",
     "text": [
      "Original energy: -20.9. New energy: -22.1\n"
     ]
    }
   ],
   "source": [
    "# Load simple OEMol\n",
    "verbose = False\n",
    "# Load one of the provided files\n",
    "ifs = oechem.oemolistream(get_data_filename('molecules/AlkEthOH_c100.mol2'))\n",
    "mol = oechem.OEMol()\n",
    "# This uses parm@frosst atom types, so make sure to use the forcefield-flavor reader\n",
    "flavor = oechem.OEIFlavor_Generic_Default | oechem.OEIFlavor_MOL2_Default | oechem.OEIFlavor_MOL2_Forcefield\n",
    "ifs.SetFlavor( oechem.OEFormat_MOL2, flavor)\n",
    "oechem.OEReadMolecule(ifs, mol )\n",
    "# Perceive tripos types\n",
    "oechem.OETriposAtomNames(mol)\n",
    "\n",
    "#Get positions for use below\n",
    "coordinates = mol.GetCoords()\n",
    "natoms=len(coordinates)\n",
    "positions = np.zeros([natoms,3], np.float32)\n",
    "for index in range(natoms):\n",
    "    (x,y,z) = coordinates[index]\n",
    "    positions[index,0] = x\n",
    "    positions[index,1] = y\n",
    "    positions[index,2] = z\n",
    "positions = unit.Quantity(positions, unit.angstroms)\n",
    "\n",
    "# Load forcefield file\n",
    "ffxml = get_data_filename('forcefield/Frosst_AlkEtOH.ffxml')\n",
    "ff = ForceField(ffxml)\n",
    "\n",
    "# Generate a topology\n",
    "from smarty.forcefield import generateTopologyFromOEMol\n",
    "topology = generateTopologyFromOEMol(mol)\n",
    "\n",
    "# Create initial system\n",
    "system = ff.createSystem(topology, [mol], verbose=verbose)\n",
    "\n",
    "# Get initial energy before parameter modification\n",
    "old_energy=get_energy(system, positions)\n",
    "\n",
    "# Get params for an angle\n",
    "params = ff.getParameter(smirks='[a,A:1]-[#6X4:2]-[a,A:3]')\n",
    "# Modify params\n",
    "params['k']='0.0'\n",
    "ff.setParameter(params, smirks='[a,A:1]-[#6X4:2]-[a,A:3]')\n",
    "\n",
    "# Evaluate energy after parameter modification\n",
    "system=ff.createSystem(topology, [mol], verbose=verbose)\n",
    "energy=get_energy(system, positions)\n",
    "\n",
    "# Print out energy\n",
    "print(\"Original energy: %.3g. New energy: %.3g\" % (old_energy, energy))"
   ]
  },
  {
   "cell_type": "markdown",
   "metadata": {},
   "source": [
    "## Take a look at what other info is provided on parameters and how to access it"
   ]
  },
  {
   "cell_type": "code",
   "execution_count": 20,
   "metadata": {
    "collapsed": false
   },
   "outputs": [
    {
     "name": "stdout",
     "output_type": "stream",
     "text": [
      "{'smirks': '[#6X4:1]-[#6X4:2]', 'length': '1.526', 'k': '620.0', 'parent_id': 'b0001', 'id': 'b0001'}\n",
      "{'parent_id': 'n0001', 'smirks': '[$([#1]-C):1]', 'id': 'n0002', 'epsilon': '0.0157', 'rmin_half': '1.4870'}\n"
     ]
    }
   ],
   "source": [
    "# Load forcefield file\n",
    "ffxml = get_data_filename('forcefield/Frosst_AlkEtOH.ffxml')\n",
    "ff = ForceField(ffxml)\n",
    "\n",
    "# Get a parameter by parameter id\n",
    "param = ff.getParameter(paramID='b0001')\n",
    "print(param)\n",
    "\n",
    "# Get a parameter with a search restricted to a particular section, by smirks\n",
    "param = ff.getParameter(smirks='[$([#1]-C):1]', force_type='NonbondedForce')\n",
    "print(param)"
   ]
  },
  {
   "cell_type": "code",
   "execution_count": null,
   "metadata": {
    "collapsed": true
   },
   "outputs": [],
   "source": []
  }
 ],
 "metadata": {
  "kernelspec": {
   "display_name": "Python 2",
   "language": "python",
   "name": "python2"
  },
  "language_info": {
   "codemirror_mode": {
    "name": "ipython",
    "version": 2
   },
   "file_extension": ".py",
   "mimetype": "text/x-python",
   "name": "python",
   "nbconvert_exporter": "python",
   "pygments_lexer": "ipython2",
   "version": "2.7.11"
  }
 },
 "nbformat": 4,
 "nbformat_minor": 0
}
