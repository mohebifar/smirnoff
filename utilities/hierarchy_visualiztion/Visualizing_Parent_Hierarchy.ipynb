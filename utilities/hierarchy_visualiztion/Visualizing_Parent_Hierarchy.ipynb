{
 "cells": [
  {
   "cell_type": "markdown",
   "metadata": {},
   "source": [
    "# Parent Tree Visualization\n",
    "\n",
    "The goal of this notebook is to test out how to visualize smarty/smirky parent dictionaries\n",
    "It will include how to rebuild those dictionaries from loaded trajectory data and how\n",
    "to visualize them. Following the example for [Node-backgrounds here](http://etetoolkit.org/docs/2.3/tutorial/tutorial_drawing.html#node-backgrounds)\n",
    "\n",
    "Authors\n",
    "* Caitlin C. Bannan"
   ]
  },
  {
   "cell_type": "code",
   "execution_count": 2,
   "metadata": {
    "collapsed": false
   },
   "outputs": [],
   "source": [
    "from smarty import *\n",
    "from ete2 import Tree, faces, AttrFace, TreeStyle, NodeStyle"
   ]
  },
  {
   "cell_type": "code",
   "execution_count": null,
   "metadata": {
    "collapsed": false
   },
   "outputs": [],
   "source": [
    "# Copied from http://etetoolkit.org/docs/2.3/tutorial/tutorial_drawing.html#node-backgrounds\n",
    "def layout(node):\n",
    "    if node.is_leaf():\n",
    "        N = AttrFace(\"name\", fsize=30)\n",
    "        faces.add_face_to_node(N, node, 0, position=\"aligned\")\n",
    "\n",
    "def get_example_tree():\n",
    "\n",
    "    # Set dashed blue lines in all leaves\n",
    "    nst1 = NodeStyle()\n",
    "    nst1[\"bgcolor\"] = \"LightSteelBlue\"\n",
    "    nst2 = NodeStyle()\n",
    "    nst2[\"bgcolor\"] = \"Moccasin\"\n",
    "    nst3 = NodeStyle()\n",
    "    nst3[\"bgcolor\"] = \"DarkSeaGreen\"\n",
    "    nst4 = NodeStyle()\n",
    "    nst4[\"bgcolor\"] = \"Khaki\"\n",
    "\n",
    "\n",
    "    t = Tree(\"((((a1,a2),a3), ((b1,b2),(b3,b4))), ((c1,c2),c3));\")\n",
    "    for n in t.traverse():\n",
    "        n.dist = 0\n",
    "    \n",
    "    n1 = t.get_common_ancestor(\"a1\", \"a2\", \"a3\")\n",
    "    n1.set_style(nst1)\n",
    "    n2 = t.get_common_ancestor(\"b1\", \"b2\", \"b3\", \"b4\")\n",
    "    n2.set_style(nst2)\n",
    "    n3 = t.get_common_ancestor(\"c1\", \"c2\", \"c3\")\n",
    "    n3.set_style(nst3)\n",
    "    n4 = t.get_common_ancestor(\"b3\", \"b4\")\n",
    "    n4.set_style(nst4)\n",
    "    ts = TreeStyle()\n",
    "    ts.layout_fn = layout\n",
    "    ts.show_leaf_name = False\n",
    "\n",
    "    ts.mode = \"c\"\n",
    "    ts.root_opening_factor = 1\n",
    "    return t, ts\n",
    "\n",
    "t, ts = get_example_tree()\n",
    "t.show(tree_style=ts)\n",
    "t.render(\"%%inline\")  "
   ]
  },
  {
   "cell_type": "code",
   "execution_count": null,
   "metadata": {
    "collapsed": true
   },
   "outputs": [],
   "source": [
    "\n",
    "# Set dashed blue lines in all leaves\n",
    "nst1 = NodeStyle()\n",
    "nst1[\"bgcolor\"] = \"LightSteelBlue\"\n",
    "nst2 = NodeStyle()\n",
    "nst2[\"bgcolor\"] = \"Moccasin\"\n",
    "nst3 = NodeStyle()\n",
    "nst3[\"bgcolor\"] = \"DarkSeaGreen\"\n",
    "nst4 = NodeStyle()\n",
    "nst4[\"bgcolor\"] = \"Khaki\"\n",
    "\n",
    "\n",
    "t = Tree(\"((((a1,a2),a3), ((b1,b2),(b3,b4))), ((c1,c2),c3));\")\n",
    "for n in t.traverse():\n",
    "    n.dist = 0\n",
    "\n",
    "n1 = t.get_common_ancestor(\"a1\", \"a2\", \"a3\")\n",
    "n1.set_style(nst1)\n",
    "n2 = t.get_common_ancestor(\"b1\", \"b2\", \"b3\", \"b4\")\n",
    "n2.set_style(nst2)\n",
    "n3 = t.get_common_ancestor(\"c1\", \"c2\", \"c3\")\n",
    "n3.set_style(nst3)\n",
    "n4 = t.get_common_ancestor(\"b3\", \"b4\")\n",
    "n4.set_style(nst4)\n",
    "ts = TreeStyle()\n",
    "ts.layout_fn = layout\n",
    "ts.show_leaf_name = False\n",
    "\n",
    "ts.mode = \"c\"\n",
    "ts.root_opening_factor = 1"
   ]
  },
  {
   "cell_type": "code",
   "execution_count": null,
   "metadata": {
    "collapsed": true
   },
   "outputs": [],
   "source": []
  }
 ],
 "metadata": {
  "kernelspec": {
   "display_name": "Python 2",
   "language": "python",
   "name": "python2"
  },
  "language_info": {
   "codemirror_mode": {
    "name": "ipython",
    "version": 2
   },
   "file_extension": ".py",
   "mimetype": "text/x-python",
   "name": "python",
   "nbconvert_exporter": "python",
   "pygments_lexer": "ipython2",
   "version": "2.7.12"
  }
 },
 "nbformat": 4,
 "nbformat_minor": 0
}
