{
 "cells": [
  {
   "cell_type": "markdown",
   "metadata": {},
   "source": [
    "# parm@frosst-y to SMIRFF\n",
    "\n",
    "This notebook provides examples/utility functionality to assist with conversion of parm@frosst or relatives to SMIRFF format. Particularly, Christopher Bayly is generating modified AMBER `frcmod` files where the first entry for each parameter (i.e. `CT-CT-CT`) is replaced by the relevant SMIRKS pattern, for conversion into SMIRFF FFXML format. \n",
    "\n",
    "This notebook will:\n",
    "1. Convert a specified smirks-frcmod file to SMIRFF FFXML\n",
    "2. Generate (or take in) a set of molecules in OpenEye oemol format\n",
    "3. Use the SMIRFF `ForceField` class to determine (a) which parameters are used in which molecules; (b) which molecules contain a specified parameter; and (c) which molecules do NOT contain a specified parameter.\n",
    "\n",
    "Bayly will potentially also update the notebook with visualization for 3(b) and 3(c).\n",
    "\n",
    "\n",
    "**Authors**:\n",
    "* David L. Mobley (UCI)\n",
    "\n",
    "\n",
    "## 1. Convert specified SMIRKS `frcmod` file to SMIRFF FFXML"
   ]
  },
  {
   "cell_type": "code",
   "execution_count": 15,
   "metadata": {
    "collapsed": true
   },
   "outputs": [],
   "source": [
    "# Input and output info\n",
    "infile = 'example.frcmod' # frcmod file to convert\n",
    "outfile = 'example.ffxml' # Output SMIRFF FFXML\n",
    "template = 'template.ffxml' # Template FFXML file without parameters (but with remainder of contents)\n",
    "testfile = 'example_plusgeneric.ffxml' # Test FFXML file which also provides a generic for every force type\n",
    "\n",
    "# Imports\n",
    "from convert_frcmod import *\n",
    "import openeye.oechem as oechem\n",
    "import openeye.oeiupac as oeiupac\n",
    "import openeye.oeomega as oeomega\n",
    "from smarty.forcefield import *\n",
    "from smarty.forcefield_utils import get_molecule_parameterIDs\n",
    "from smarty.utils import *\n",
    "% matplotlib inline\n",
    "import matplotlib\n",
    "import numpy as np\n",
    "import pylab as pl\n",
    "import matplotlib.pyplot as plt\n",
    "\n",
    "# Convert\n",
    "convert_frcmod_to_ffxml( infile, template, outfile)"
   ]
  },
  {
   "cell_type": "markdown",
   "metadata": {},
   "source": [
    "## 2. Generate or take in a set of molecules in OpenEye OEMol format\n",
    "\n",
    "Here we will take in the ZINC parm@frosst subset from CCL (which is also packaged with SMARTY) and read all the molecules from it."
   ]
  },
  {
   "cell_type": "code",
   "execution_count": 35,
   "metadata": {
    "collapsed": false
   },
   "outputs": [
    {
     "name": "stdout",
     "output_type": "stream",
     "text": [
      "Loading molecules from '/Users/dmobley/anaconda/lib/python2.7/site-packages/smarty-0.1.2-py2.7.egg/smarty/data/molecules/zinc-subset-tripos.mol2.gz'...\n",
      "7505 molecules read\n",
      "1.562 s elapsed\n"
     ]
    }
   ],
   "source": [
    "# Use utils wrapper functions to find the file and read all of the molecules\n",
    "oemols = read_molecules( get_data_filename('molecules/zinc-subset-tripos.mol2.gz'))\n",
    "\n",
    "# For use later, generate isomeric SMILES for these so we can easily look up molecules by smiles\n",
    "isosmiles_to_mol = {}\n",
    "for mol in oemols:\n",
    "    smi = oechem.OECreateIsoSmiString(mol)\n",
    "    isosmiles_to_mol[smi] = OEMol(mol)"
   ]
  },
  {
   "cell_type": "markdown",
   "metadata": {},
   "source": [
    "## 3. Determine parameter usage in molecules\n",
    "\n",
    "Here we will use the SMIRFF ForceField class to determine (a) which parameters are used in which molecules; (b) which molecules contain a specified parameter; and (c) which molecules do NOT contain a specified parameter. We begin by just loading the SMIRFF forcefield we generated in section 1."
   ]
  },
  {
   "cell_type": "code",
   "execution_count": 51,
   "metadata": {
    "collapsed": true
   },
   "outputs": [],
   "source": [
    "# Load SMIRFF FFXML\n",
    "#ff = ForceField(outfile) # We will use this below to access details of parameters\n",
    "ff = ForceField(testfile)"
   ]
  },
  {
   "cell_type": "markdown",
   "metadata": {},
   "source": [
    "### 3(a). Determine which parameters are used in which molecules\n",
    "\n",
    "Here we determine which parameters are actually used in which molecules, and make a couple example plots of the frequency of parameter occurrences for some of our example parameters."
   ]
  },
  {
   "cell_type": "code",
   "execution_count": 64,
   "metadata": {
    "collapsed": false
   },
   "outputs": [],
   "source": [
    "# Use utility function from forcefield_utils to get which parameters are in which molecules\n",
    "# and which molecules each parameter occurs in. \n",
    "# The returns are dictionaries, and molecule identifiers are isomeric smiles generated from the OEMols\n",
    "# USE TEST FILE CONTAINING GENERICS RATHER THAN OUTPUT FILE FOR NOW\n",
    "#parameters_by_molecule, parameters_by_ID = get_molecule_parameterIDs( oemols, outfile) #Slow\n",
    "parameters_by_molecule, parameters_by_ID = get_molecule_parameterIDs( oemols, testfile) #Slow \n",
    "\n",
    "# Prep for making graphs - determine all parameters used at all\n",
    "# (TO DO - probably would be useful to determine if any parameters aren't used at all)\n",
    "param_ids = set()\n",
    "for key in parameters_by_molecule:\n",
    "    param_ids = param_ids.union(set(parameters_by_molecule[key]))\n",
    "\n",
    "# Count occurrences of each parameter\n",
    "param_id_counts = {}\n",
    "for param_id in param_ids:\n",
    "    param_id_counts[param_id] = 0\n",
    "    for key in parameters_by_molecule:\n",
    "        param_id_counts[param_id] += parameters_by_molecule[key].count(param_id)"
   ]
  },
  {
   "cell_type": "markdown",
   "metadata": {},
   "source": [
    "For fun/info, do a quick graph of frequency of occurrence of particular parameters. Here, let's just do bond parameters"
   ]
  },
  {
   "cell_type": "code",
   "execution_count": 53,
   "metadata": {
    "collapsed": false
   },
   "outputs": [
    {
     "data": {
      "image/png": "[encoded data removed]",
      "text/plain": [
       "<matplotlib.figure.Figure at 0x11dad1050>"
      ]
     },
     "metadata": {},
     "output_type": "display_data"
    },
    {
     "name": "stdout",
     "output_type": "stream",
     "text": [
      "{'i1': 53130, 'i0': 490027, 'a1': 16128, 'a0': 368935, 'a2': 1621, 'b0': 152758, 'b1': 19634, 'b2': 56754, 'n0': 128656, 'n1': 87152, 'n2': 996}\n"
     ]
    }
   ],
   "source": [
    "# Graph occurrences of bond parameters\n",
    "bond_ids = [ pid for pid in param_ids if pid[0]=='b']\n",
    "bond_ids.sort()\n",
    "counts_bonds = [param_id_counts[bond_id] for bond_id in bond_ids]\n",
    "indices = np.arange(len(bond_ids))\n",
    "fix, ax = plt.subplots()\n",
    "rects2 = ax.bar(indices, counts_bonds )\n",
    "ax.set_ylabel('Count')\n",
    "ax.set_xticks( indices)\n",
    "ax.set_xticklabels( bond_ids)\n",
    "plt.show()"
   ]
  },
  {
   "cell_type": "markdown",
   "metadata": {},
   "source": [
    "### 3(b)-3(c). Determine which molecules do/do not contain selected parameter\n",
    "\n",
    "Determine which molecules do and do not contain a specified parameter; give access to isomeric smiles and OEMol for each molecule in each case."
   ]
  },
  {
   "cell_type": "code",
   "execution_count": 60,
   "metadata": {
    "collapsed": false
   },
   "outputs": [
    {
     "name": "stdout",
     "output_type": "stream",
     "text": [
      "For parameter a2, the relevant parameters are:\n",
      "{'smirks': '[#6:1]~[#6:2]~[#8H1:3]', 'k': '160.0', 'angle': '120.00', 'id': 'a2'}\n",
      "\n",
      "There are 731 molecules containing that parameter and 6774 which do not, out of 7505.\n",
      "\n",
      "First 10 molecules not containing that parameter:\n",
      "   CS(=O)(=O)N1CCC(CC1)n2cc(nn2)c3ccsc3\n",
      "   c1cc2cccc3c2c(c1)c(=C(C#N)C#N)[nH]3\n",
      "   CCSc1nnc(n1C)CSc2c([nH]c3c2cccc3)C\n",
      "   c1ccc(cc1)c2cc(=O)[nH]c(=O)s2\n",
      "   Cc1ccc(cc1)C2=CSNC(=N2)c3ccccc3OC\n",
      "   c1nc2c(c(n1)N)NC(=O)C2\n",
      "   c1nc2n(n1)C(C(=O)N2)CC(=O)[O-]\n",
      "   CN1C(=O)c2ccccc2C(=C3C=CC(=O)C=C3)N1\n",
      "   CC(=O)C1=C(c2ccccc2S(=O)(=O)N1)[O-]\n",
      "   Cc1cc(=O)n2c(n1)sc(n2)n3cnc(n3)C#N\n",
      "\n",
      "First 10 molecules containing that parameter:\n",
      "   Cc1cc(on1)c2c(n(c(=O)n(c2=O)C)C)O\n",
      "   c1cn2c(nc1=[NH2+])SC3C2OC(C3O)CO\n",
      "   c1ccc(c(c1)C2=NC(=Cc3ccco3)C(=N2)O)Br\n",
      "   c1ccc(cc1)C#CC2(c3ccccc3C(=O)c4c2cncc4)O\n",
      "   CC(C)(C)OC(=O)NC1CC(C=C1)O\n",
      "   CCOC(=O)[NH+]=c1cc(cc(o1)O)O\n",
      "   c1ccc2cc3c(cc2c1)C4(c5ccccc5C(=O)C4(O3)O)O\n",
      "   C1C(=CC(=O)[O-])C(OC1=O)(CCC(=O)[O-])O\n",
      "   c1ccc(cc1)CN2C(C3C(C2=O)OC4(O3)CCCCC4)O\n",
      "   c1ccc2c(c1)C=C(CO2)CC3C(c4ccccc4S(=O)(=O)N3)O\n"
     ]
    }
   ],
   "source": [
    "# INPUT: Pick what parameter to look at\n",
    "parameter_id = 't3' \n",
    "\n",
    "# For info, get details of that parameter\n",
    "params = ff.getParameter(paramID=parameter_id)\n",
    "print(\"For parameter %s, the relevant parameters are:\" % parameter_id)\n",
    "print(params)\n",
    "\n",
    "# Find molecules which do/do not use that parameter\n",
    "mols_with_param = []\n",
    "mols_wo_param = []\n",
    "for isosmi in parameters_by_molecule:\n",
    "    # Store a tuple of (isomeric smiles, oemol) for each\n",
    "    if parameter_id in parameters_by_molecule[isosmi]:\n",
    "        mols_with_param.append( (isosmi, isosmiles_to_mol[isosmi] ))\n",
    "    else:\n",
    "        mols_wo_param.append( (isosmi, isosmiles_to_mol[isosmi] ))\n",
    "\n",
    "print(\"\\nThere are %s molecules containing that parameter and %s which do not, out of %s.\\n\" % (len(mols_with_param), len(mols_wo_param), len(isosmiles_to_mol)))\n",
    "\n",
    "# Print first 10 molecules not containing parameter\n",
    "print(\"First 10 molecules not containing that parameter:\")\n",
    "for i in range(10):\n",
    "    print(\"   %s\" % mols_wo_param[i][0])\n",
    "# Print first 10 molecules containing parameter\n",
    "print(\"\\nFirst 10 molecules containing that parameter:\")\n",
    "for i in range(10):\n",
    "    print(\"   %s\" % mols_with_param[i][0])\n"
   ]
  },
  {
   "cell_type": "code",
   "execution_count": null,
   "metadata": {
    "collapsed": true
   },
   "outputs": [],
   "source": []
  }
 ],
 "metadata": {
  "kernelspec": {
   "display_name": "Python 2",
   "language": "python",
   "name": "python2"
  },
  "language_info": {
   "codemirror_mode": {
    "name": "ipython",
    "version": 2
   },
   "file_extension": ".py",
   "mimetype": "text/x-python",
   "name": "python",
   "nbconvert_exporter": "python",
   "pygments_lexer": "ipython2",
   "version": "2.7.11"
  }
 },
 "nbformat": 4,
 "nbformat_minor": 0
}
