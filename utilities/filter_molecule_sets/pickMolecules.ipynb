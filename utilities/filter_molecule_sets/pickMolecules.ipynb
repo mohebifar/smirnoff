{
 "cells": [
  {
   "cell_type": "markdown",
   "metadata": {},
   "source": [
    "# Pick Molecules Test Set for SMIRKY\n",
    "\n",
    "Goal \n",
    "\n",
    "1) Try to include as many parameter types from smirff99Frosst as possible\n",
    "\n",
    "2) Try to include all parm@Frosst atomtypes from initial set\n",
    "\n",
    "2) Limit the number of total molecules \n",
    "\n",
    "**Authors**:\n",
    "* Caitlin C. Bannan (UCI)\n",
    "* Followed *parm@frossty-y to SMIRFF* script by  David L. Mobley (UCI) as example on how to type molecules with smirff99Frosst\n"
   ]
  },
  {
   "cell_type": "code",
   "execution_count": 1,
   "metadata": {
    "collapsed": true
   },
   "outputs": [],
   "source": [
    "from openeye.oechem import *"
   ]
  },
  {
   "cell_type": "code",
   "execution_count": 2,
   "metadata": {
    "collapsed": false
   },
   "outputs": [],
   "source": [
    "# Imports\n",
    "from __future__ import print_function\n",
    "from openeye.oechem import *\n",
    "from openeye.oeiupac import *\n",
    "from openeye.oeomega import *\n",
    "from openeye.oedepict import *\n",
    "from IPython.display import display\n",
    "from smarty.forcefield import *\n",
    "from smarty.forcefield_utils import get_molecule_parameterIDs\n",
    "from smarty.utils import *\n",
    "from smarty.sampler_smirky import *\n",
    "% matplotlib inline\n",
    "import matplotlib\n",
    "import numpy as np\n",
    "import pylab as pl\n",
    "import matplotlib.pyplot as plt\n",
    "import time\n",
    "import IPython\n",
    "import pickle\n",
    "import copy"
   ]
  },
  {
   "cell_type": "markdown",
   "metadata": {},
   "source": [
    "## 1. Load Molecules\n",
    "\n",
    "Load all DrugBank.sdf files"
   ]
  },
  {
   "cell_type": "code",
   "execution_count": 33,
   "metadata": {
    "collapsed": false,
    "scrolled": false
   },
   "outputs": [
    {
     "name": "stdout",
     "output_type": "stream",
     "text": [
      "Found 7133 molecules in DrugBank_atyped.oeb \n",
      " it took 1.3 seconds\n"
     ]
    }
   ],
   "source": [
    "inf = \"DrugBank_atyped.oeb\"\n",
    "starting_molecules = list()\n",
    "init = time.time()\n",
    "ifs = oemolistream(inf)\n",
    "mol = OEMol()\n",
    "while OEReadMolecule(ifs,mol):\n",
    "    starting_molecules.append(OEMol(mol))\n",
    "ifs.close()\n",
    "end = time.time()\n",
    "print(\"Found %i molecules in %s \\n it took %.1f seconds\" % (len(starting_molecules), inf, end-init))"
   ]
  },
  {
   "cell_type": "markdown",
   "metadata": {},
   "source": [
    "## 1.5 Remove unwanted molecules\n",
    "\n",
    "This follows the general plan for filtering for smarty tests\n",
    "Molecules should meet the following requirements\n",
    "\n",
    "* No metals\n",
    "* No more than 100 heavy atoms\n",
    "* Grater than 2 heavy atoms\n",
    "* No gg atom types (that is the generic parm@Frosst) atomtype"
   ]
  },
  {
   "cell_type": "code",
   "execution_count": 36,
   "metadata": {
    "collapsed": false
   },
   "outputs": [
    {
     "name": "stdout",
     "output_type": "stream",
     "text": [
      "Keeping 6804 molecules of the original 7133\n"
     ]
    }
   ],
   "source": [
    "def hasAtomType(mol, typ):\n",
    "    for atom in mol.GetAtoms():\n",
    "        if atom.GetType() == typ:\n",
    "            return True\n",
    "    return False\n",
    "\n",
    "molecules = list()\n",
    "for mol in starting_molecules:\n",
    "    if OECount(mol, OEIsMetal()) > 0:\n",
    "        continue\n",
    "    if OECount(mol, OEIsHeavy()) > 100:\n",
    "        continue\n",
    "    if OECount(mol, OEIsHeavy()) < 4:\n",
    "        continue\n",
    "    if hasAtomType(mol, 'gg'):\n",
    "        continue\n",
    "    molecules.append(OEMol(mol))\n",
    "\n",
    "print(\"Keeping %i molecules of the original %i\" % (len(molecules), len(starting_molecules)))"
   ]
  },
  {
   "cell_type": "markdown",
   "metadata": {},
   "source": [
    "## 2. Load SMIRFF99Frosst and label molecules"
   ]
  },
  {
   "cell_type": "code",
   "execution_count": 37,
   "metadata": {
    "collapsed": false
   },
   "outputs": [
    {
     "name": "stdout",
     "output_type": "stream",
     "text": [
      "Took 672.2 seconds to label all 6804 molecules\n"
     ]
    }
   ],
   "source": [
    "init = time.time()\n",
    "ff = ForceField('forcefield/smirff99Frosst.ffxml')\n",
    "labels = ff.labelMolecules(molecules)\n",
    "end = time.time()\n",
    "print(\"Took %.1f seconds to label all %i molecules\" % (end-init, len(molecules)))"
   ]
  },
  {
   "cell_type": "markdown",
   "metadata": {},
   "source": [
    "## 3. Store initial information"
   ]
  },
  {
   "cell_type": "code",
   "execution_count": 38,
   "metadata": {
    "collapsed": false
   },
   "outputs": [],
   "source": [
    "def getInitialInformation(labels, molecules):\n",
    "    keep_mols = set()\n",
    "    unused_pids = set()\n",
    "    dict_mols = dict()\n",
    "    for i in range(len(labels)):\n",
    "        dict_mols[i] = set()\n",
    "    dict_pid = dict()\n",
    "    # loop through molecules:\n",
    "    for idx, molDict in enumerate(labels):\n",
    "        # loop through forcetypes from smirff99Frosst label\n",
    "        for force, idList in molDict.items():\n",
    "            # loop through pid lists\n",
    "            for (idices, pid, smirks) in idList:\n",
    "                if not dict_pid.has_key(pid):\n",
    "                    dict_pid[pid] = set()\n",
    "                unused_pids.add(pid)\n",
    "                dict_mols[idx].add(pid)\n",
    "                dict_pid[pid].add(idx)\n",
    "        \n",
    "        # Loop through atoms in molecule treating where\n",
    "        # atomtypes are the parameter id\n",
    "        mol = molecules[idx]\n",
    "        for atom in mol.GetAtoms():\n",
    "            typ = atom.GetType()\n",
    "            if not dict_pid.has_key(typ):\n",
    "                dict_pid[typ] = set()\n",
    "            unused_pids.add(typ)\n",
    "            dict_mols[idx].add(typ)\n",
    "            dict_pid[typ].add(idx)\n",
    "                \n",
    "    return unused_pids, dict_mols, dict_pid"
   ]
  },
  {
   "cell_type": "code",
   "execution_count": 39,
   "metadata": {
    "collapsed": false
   },
   "outputs": [
    {
     "name": "stdout",
     "output_type": "stream",
     "text": [
      "Created initial dictionaries and lists in 4.4 seconds\n"
     ]
    }
   ],
   "source": [
    "init = time.time()\n",
    "unused_pids, dict_mols, dict_pid = getInitialInformation(labels, molecules)\n",
    "all_pids = list(unused_pids)\n",
    "end = time.time()\n",
    "print(\"Created initial dictionaries and lists in %.1f seconds\" % (end-init))"
   ]
  },
  {
   "cell_type": "markdown",
   "metadata": {},
   "source": [
    "## 4. Remove unnecessary molecules"
   ]
  },
  {
   "cell_type": "code",
   "execution_count": 40,
   "metadata": {
    "collapsed": false
   },
   "outputs": [
    {
     "name": "stdout",
     "output_type": "stream",
     "text": [
      "the length was 2\n",
      "the length was 3\n",
      "the length was 4\n",
      "the length was 5\n",
      "the length was 6\n",
      "the length was 7\n",
      "the length was 8\n",
      "the length was 9\n",
      "the length was 13\n",
      "the length was 15\n",
      "the length was 16\n",
      "the length was 17\n",
      "the length was 33\n",
      "the length was 34\n",
      "Removing unnecessary molecules took 0.1 seconds\n",
      "There are 260 molecules in the final set\n"
     ]
    }
   ],
   "source": [
    "# store molecules (to keep) and pids (to remove)\n",
    "init = time.time()\n",
    "keep_mols = set()\n",
    "\n",
    "length = 2\n",
    "while len(unused_pids) > 0:\n",
    "    # Track if a change has been made\n",
    "    to_remove_pids = set()\n",
    "    unchanged = True\n",
    "    \n",
    "    # For all pids still in the unused list\n",
    "    for pid in unused_pids:    \n",
    "        # get the list of molecules with that parameter\n",
    "        molList = copy.copy(dict_pid[pid])\n",
    "        \n",
    "        # Trying to remove the limited number of molecules, so \n",
    "        # start by only considering pids with in a small number of molecules, \n",
    "        # if no changes are made then the length is increased \n",
    "        if len(molList) < length:\n",
    "            unchanged = False\n",
    "            for m in molList:\n",
    "                keep_mols.add(m) # Keep this molecule\n",
    "                for pid in dict_mols[m]:\n",
    "                    # remove all pids in this molecule from the unused list\n",
    "                    to_remove_pids.add(pid) \n",
    "                if m in dict_pid[pid]:\n",
    "                    dict_pid[pid].remove(m) # remove this molecule from pid dict as it has already been stored\n",
    "            \n",
    "    # updated unused_pids\n",
    "    for pid in to_remove_pids:\n",
    "        if pid in unused_pids:\n",
    "            unused_pids.remove(pid)\n",
    "    \n",
    "    # update length of molList considered\n",
    "    if unchanged:\n",
    "        length += 1\n",
    "    # If A change was made reset length to 2\n",
    "    else:\n",
    "        print(\"the length was %i\" % length)\n",
    "        length = 2\n",
    "\n",
    "end = time.time()\n",
    "print(\"Removing unnecessary molecules took %.1f seconds\" % (end-init))\n",
    "\n",
    "# Make an updated list with only the stored molecules\n",
    "new_molecules = list()\n",
    "for idx in keep_mols:\n",
    "    new_molecules.append(OEMol(molecules[idx]))\n",
    "print(\"There are %i molecules in the final set\" % len(new_molecules))"
   ]
  },
  {
   "cell_type": "markdown",
   "metadata": {
    "collapsed": false
   },
   "source": [
    "## 5. Store New Molecules"
   ]
  },
  {
   "cell_type": "code",
   "execution_count": 41,
   "metadata": {
    "collapsed": false
   },
   "outputs": [
    {
     "name": "stdout",
     "output_type": "stream",
     "text": [
      "checking and storing new molecules took 0.2 seconds\n"
     ]
    }
   ],
   "source": [
    "init = time.time()\n",
    "new_labels = [labels[idx] for idx in keep_mols]\n",
    "new_unused_pids, new_dict_mols, new_dict_pid = getInitialInformation(new_labels, new_molecules)\n",
    "\n",
    "for pid in all_pids:\n",
    "    if pid not in new_unused_pids:\n",
    "        print(\"pid %s is missing in new_molecules\" % pid)\n",
    "end = time.time()\n",
    "print(\"checking and storing new molecules took %.1f seconds\" % (end-init))"
   ]
  },
  {
   "cell_type": "code",
   "execution_count": 51,
   "metadata": {
    "collapsed": true
   },
   "outputs": [],
   "source": [
    "def getAtomtypeCounts(molecules):\n",
    "    A = dict()\n",
    "    for mol in new_molecules:\n",
    "        for atom in mol.GetAtoms():\n",
    "            a_num = atom.GetAtomicNum()\n",
    "            a_type = atom.GetType()\n",
    "            if not A.has_key(a_num):\n",
    "                A[a_num] = set()\n",
    "            A[a_num].add(a_type)\n",
    "    return A"
   ]
  },
  {
   "cell_type": "code",
   "execution_count": 52,
   "metadata": {
    "collapsed": false
   },
   "outputs": [
    {
     "name": "stdout",
     "output_type": "stream",
     "text": [
      "314\n",
      "Vdw 26\n",
      "Bonds 69\n",
      "Angles 34\n",
      "Torsions 131\n",
      "           AtomicNum               in Old               in New\n",
      "                   1                   13                   13\n",
      "                  34                    1                    1\n",
      "                  35                    1                    1\n",
      "                   6                   12                   12\n",
      "                   7                    8                    8\n",
      "                   8                    6                    6\n",
      "                   9                    1                    1\n",
      "                  15                    1                    1\n",
      "                  16                    5                    5\n",
      "                  17                    2                    2\n",
      "                  53                    1                    1\n"
     ]
    }
   ],
   "source": [
    "print( len(all_pids))\n",
    "n = [a for a in all_pids if a[0]=='n']\n",
    "print(\"Vdw %i\" % len(n))\n",
    "b = [a for a in all_pids if a[0]=='b']\n",
    "print(\"Bonds %i\" % len(b))\n",
    "aS = [a for a in all_pids if a[0]=='a']\n",
    "print(\"Angles %i\" % len(aS))\n",
    "t = [a for a in all_pids if a[0]=='t']\n",
    "print(\"Torsions %i\" % len(t))\n",
    "\n",
    "oldA = getAtomtypeCounts(molecules)\n",
    "newA = getAtomtypeCounts(new_molecules)\n",
    "print(\"%20s %20s %20s\" % ('AtomicNum', 'in Old', 'in New'))\n",
    "for k, e in oldA.items():\n",
    "    new_e = newA[k]\n",
    "    print(\"%20s %20s %20s\" % (k, len(e), len(new_e)))"
   ]
  },
  {
   "cell_type": "markdown",
   "metadata": {},
   "source": [
    "## 6. Store new Molecules"
   ]
  },
  {
   "cell_type": "code",
   "execution_count": 45,
   "metadata": {
    "collapsed": false
   },
   "outputs": [],
   "source": [
    "# store final molecules\n",
    "flavor = oechem.OEIFlavor_Generic_Default | oechem.OEIFlavor_MOL2_Default | oechem.OEIFlavor_MOL2_Forcefield\n",
    "outf = \"MiniDrugBank_atyped\"\n",
    "ofs = oemolostream(\"%s.oeb\" % outf)\n",
    "ofs.SetFlavor(oechem.OEFormat_MOL2, flavor)\n",
    "for mol in new_molecules:\n",
    "    OEWriteMolecule(ofs,mol)\n",
    "ofs.close()"
   ]
  }
 ],
 "metadata": {
  "kernelspec": {
   "display_name": "Python 2",
   "language": "python",
   "name": "python2"
  },
  "language_info": {
   "codemirror_mode": {
    "name": "ipython",
    "version": 2
   },
   "file_extension": ".py",
   "mimetype": "text/x-python",
   "name": "python",
   "nbconvert_exporter": "python",
   "pygments_lexer": "ipython2",
   "version": "2.7.12"
  }
 },
 "nbformat": 4,
 "nbformat_minor": 0
}
